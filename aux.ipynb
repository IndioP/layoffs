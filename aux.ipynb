{
 "cells": [
  {
   "cell_type": "code",
   "execution_count": 1,
   "metadata": {},
   "outputs": [],
   "source": [
    "import pandas as pd\n",
    "\n",
    "import seaborn as sns\n",
    "import matplotlib.pyplot as plt"
   ]
  },
  {
   "cell_type": "code",
   "execution_count": 2,
   "metadata": {},
   "outputs": [],
   "source": [
    "df = pd.read_csv(\"layoffs.csv\")"
   ]
  },
  {
   "cell_type": "code",
   "execution_count": 3,
   "metadata": {},
   "outputs": [
    {
     "data": {
      "text/html": [
       "<div>\n",
       "<style scoped>\n",
       "    .dataframe tbody tr th:only-of-type {\n",
       "        vertical-align: middle;\n",
       "    }\n",
       "\n",
       "    .dataframe tbody tr th {\n",
       "        vertical-align: top;\n",
       "    }\n",
       "\n",
       "    .dataframe thead th {\n",
       "        text-align: right;\n",
       "    }\n",
       "</style>\n",
       "<table border=\"1\" class=\"dataframe\">\n",
       "  <thead>\n",
       "    <tr style=\"text-align: right;\">\n",
       "      <th></th>\n",
       "      <th>Company</th>\n",
       "      <th>Location</th>\n",
       "      <th>Industry</th>\n",
       "      <th>Laid_Off_Count</th>\n",
       "      <th>Percentage</th>\n",
       "      <th>Date</th>\n",
       "      <th>Source</th>\n",
       "      <th>Funds_Raised</th>\n",
       "      <th>Stage</th>\n",
       "      <th>Date_Added</th>\n",
       "      <th>Country</th>\n",
       "      <th>List_of_Employees_Laid_Off</th>\n",
       "    </tr>\n",
       "  </thead>\n",
       "  <tbody>\n",
       "    <tr>\n",
       "      <th>0</th>\n",
       "      <td>TuSimple</td>\n",
       "      <td>San Diego</td>\n",
       "      <td>Transportation</td>\n",
       "      <td>350.0</td>\n",
       "      <td>0.25</td>\n",
       "      <td>2022-12-21</td>\n",
       "      <td>https://techcrunch.com/2022/12/21/self-driving...</td>\n",
       "      <td>648.0</td>\n",
       "      <td>IPO</td>\n",
       "      <td>2022-12-18 04:12:29</td>\n",
       "      <td>United States</td>\n",
       "      <td>Unknown</td>\n",
       "    </tr>\n",
       "    <tr>\n",
       "      <th>1</th>\n",
       "      <td>Lendis</td>\n",
       "      <td>Berlin</td>\n",
       "      <td>Other</td>\n",
       "      <td>NaN</td>\n",
       "      <td>0.50</td>\n",
       "      <td>2022-12-21</td>\n",
       "      <td>https://www.linkedin.com/posts/s-papadopoulos_...</td>\n",
       "      <td>90.0</td>\n",
       "      <td>Series A</td>\n",
       "      <td>2022-12-21 17:05:05</td>\n",
       "      <td>Germany</td>\n",
       "      <td>Unknown</td>\n",
       "    </tr>\n",
       "    <tr>\n",
       "      <th>2</th>\n",
       "      <td>Briza</td>\n",
       "      <td>Toronto</td>\n",
       "      <td>Finance</td>\n",
       "      <td>26.0</td>\n",
       "      <td>0.40</td>\n",
       "      <td>2022-12-20</td>\n",
       "      <td>https://betakit.com/ceo-of-briza-steps-down-as...</td>\n",
       "      <td>10.0</td>\n",
       "      <td>Series A</td>\n",
       "      <td>2022-12-20 18:43:01</td>\n",
       "      <td>Canada</td>\n",
       "      <td>https://docs.google.com/spreadsheets/d/18ZMnL9...</td>\n",
       "    </tr>\n",
       "    <tr>\n",
       "      <th>3</th>\n",
       "      <td>Zhihu</td>\n",
       "      <td>Beijing</td>\n",
       "      <td>Consumer</td>\n",
       "      <td>NaN</td>\n",
       "      <td>0.10</td>\n",
       "      <td>2022-12-20</td>\n",
       "      <td>https://pandaily.com/chinese-qa-platform-zhihu...</td>\n",
       "      <td>892.0</td>\n",
       "      <td>Series F</td>\n",
       "      <td>2022-12-21 17:06:02</td>\n",
       "      <td>China</td>\n",
       "      <td>Unknown</td>\n",
       "    </tr>\n",
       "    <tr>\n",
       "      <th>4</th>\n",
       "      <td>Health IQ</td>\n",
       "      <td>SF Bay Area</td>\n",
       "      <td>Healthcare</td>\n",
       "      <td>NaN</td>\n",
       "      <td>NaN</td>\n",
       "      <td>2022-12-19</td>\n",
       "      <td>https://www.coverager.com/layoffs-at-health-iq/</td>\n",
       "      <td>136.0</td>\n",
       "      <td>Series D</td>\n",
       "      <td>2022-12-24 04:15:01</td>\n",
       "      <td>United States</td>\n",
       "      <td>Unknown</td>\n",
       "    </tr>\n",
       "  </tbody>\n",
       "</table>\n",
       "</div>"
      ],
      "text/plain": [
       "     Company     Location        Industry  Laid_Off_Count  Percentage  \\\n",
       "0   TuSimple    San Diego  Transportation           350.0        0.25   \n",
       "1     Lendis       Berlin           Other             NaN        0.50   \n",
       "2      Briza      Toronto         Finance            26.0        0.40   \n",
       "3      Zhihu      Beijing        Consumer             NaN        0.10   \n",
       "4  Health IQ  SF Bay Area      Healthcare             NaN         NaN   \n",
       "\n",
       "         Date                                             Source  \\\n",
       "0  2022-12-21  https://techcrunch.com/2022/12/21/self-driving...   \n",
       "1  2022-12-21  https://www.linkedin.com/posts/s-papadopoulos_...   \n",
       "2  2022-12-20  https://betakit.com/ceo-of-briza-steps-down-as...   \n",
       "3  2022-12-20  https://pandaily.com/chinese-qa-platform-zhihu...   \n",
       "4  2022-12-19    https://www.coverager.com/layoffs-at-health-iq/   \n",
       "\n",
       "   Funds_Raised     Stage           Date_Added        Country  \\\n",
       "0         648.0       IPO  2022-12-18 04:12:29  United States   \n",
       "1          90.0  Series A  2022-12-21 17:05:05        Germany   \n",
       "2          10.0  Series A  2022-12-20 18:43:01         Canada   \n",
       "3         892.0  Series F  2022-12-21 17:06:02          China   \n",
       "4         136.0  Series D  2022-12-24 04:15:01  United States   \n",
       "\n",
       "                          List_of_Employees_Laid_Off  \n",
       "0                                            Unknown  \n",
       "1                                            Unknown  \n",
       "2  https://docs.google.com/spreadsheets/d/18ZMnL9...  \n",
       "3                                            Unknown  \n",
       "4                                            Unknown  "
      ]
     },
     "execution_count": 3,
     "metadata": {},
     "output_type": "execute_result"
    }
   ],
   "source": [
    "df.head()"
   ]
  },
  {
   "cell_type": "code",
   "execution_count": 4,
   "metadata": {},
   "outputs": [
    {
     "data": {
      "text/html": [
       "<style type=\"text/css\">\n",
       "#T_c1da1_row3_col0, #T_c1da1_row4_col0, #T_c1da1_row5_col0, #T_c1da1_row7_col0 {\n",
       "  color: turquoise;\n",
       "  background: black;\n",
       "}\n",
       "</style>\n",
       "<table id=\"T_c1da1\">\n",
       "  <thead>\n",
       "    <tr>\n",
       "      <th class=\"blank level0\" >&nbsp;</th>\n",
       "      <th id=\"T_c1da1_level0_col0\" class=\"col_heading level0 col0\" >#NaN</th>\n",
       "    </tr>\n",
       "  </thead>\n",
       "  <tbody>\n",
       "    <tr>\n",
       "      <th id=\"T_c1da1_level0_row0\" class=\"row_heading level0 row0\" >Company</th>\n",
       "      <td id=\"T_c1da1_row0_col0\" class=\"data row0 col0\" >0</td>\n",
       "    </tr>\n",
       "    <tr>\n",
       "      <th id=\"T_c1da1_level0_row1\" class=\"row_heading level0 row1\" >Location</th>\n",
       "      <td id=\"T_c1da1_row1_col0\" class=\"data row1 col0\" >0</td>\n",
       "    </tr>\n",
       "    <tr>\n",
       "      <th id=\"T_c1da1_level0_row2\" class=\"row_heading level0 row2\" >Industry</th>\n",
       "      <td id=\"T_c1da1_row2_col0\" class=\"data row2 col0\" >0</td>\n",
       "    </tr>\n",
       "    <tr>\n",
       "      <th id=\"T_c1da1_level0_row3\" class=\"row_heading level0 row3\" >Laid_Off_Count</th>\n",
       "      <td id=\"T_c1da1_row3_col0\" class=\"data row3 col0\" >559</td>\n",
       "    </tr>\n",
       "    <tr>\n",
       "      <th id=\"T_c1da1_level0_row4\" class=\"row_heading level0 row4\" >Percentage</th>\n",
       "      <td id=\"T_c1da1_row4_col0\" class=\"data row4 col0\" >600</td>\n",
       "    </tr>\n",
       "    <tr>\n",
       "      <th id=\"T_c1da1_level0_row5\" class=\"row_heading level0 row5\" >Date</th>\n",
       "      <td id=\"T_c1da1_row5_col0\" class=\"data row5 col0\" >1</td>\n",
       "    </tr>\n",
       "    <tr>\n",
       "      <th id=\"T_c1da1_level0_row6\" class=\"row_heading level0 row6\" >Source</th>\n",
       "      <td id=\"T_c1da1_row6_col0\" class=\"data row6 col0\" >0</td>\n",
       "    </tr>\n",
       "    <tr>\n",
       "      <th id=\"T_c1da1_level0_row7\" class=\"row_heading level0 row7\" >Funds_Raised</th>\n",
       "      <td id=\"T_c1da1_row7_col0\" class=\"data row7 col0\" >137</td>\n",
       "    </tr>\n",
       "    <tr>\n",
       "      <th id=\"T_c1da1_level0_row8\" class=\"row_heading level0 row8\" >Stage</th>\n",
       "      <td id=\"T_c1da1_row8_col0\" class=\"data row8 col0\" >0</td>\n",
       "    </tr>\n",
       "    <tr>\n",
       "      <th id=\"T_c1da1_level0_row9\" class=\"row_heading level0 row9\" >Date_Added</th>\n",
       "      <td id=\"T_c1da1_row9_col0\" class=\"data row9 col0\" >0</td>\n",
       "    </tr>\n",
       "    <tr>\n",
       "      <th id=\"T_c1da1_level0_row10\" class=\"row_heading level0 row10\" >Country</th>\n",
       "      <td id=\"T_c1da1_row10_col0\" class=\"data row10 col0\" >0</td>\n",
       "    </tr>\n",
       "    <tr>\n",
       "      <th id=\"T_c1da1_level0_row11\" class=\"row_heading level0 row11\" >List_of_Employees_Laid_Off</th>\n",
       "      <td id=\"T_c1da1_row11_col0\" class=\"data row11 col0\" >0</td>\n",
       "    </tr>\n",
       "  </tbody>\n",
       "</table>\n"
      ],
      "text/plain": [
       "<pandas.io.formats.style.Styler at 0x7f0654658e80>"
      ]
     },
     "execution_count": 4,
     "metadata": {},
     "output_type": "execute_result"
    }
   ],
   "source": [
    "num_df = pd.DataFrame(df.isna().sum(),columns=['#NaN'])\n",
    "num_df.style.apply(lambda x: [\"color: turquoise; background: black\" if v > 0 else \"\" for v in df.isna().sum()])"
   ]
  },
  {
   "cell_type": "code",
   "execution_count": 5,
   "metadata": {},
   "outputs": [],
   "source": [
    "df['Date'] = pd.to_datetime(df['Date'])\n",
    "df['Date_Added'] = pd.to_datetime(df['Date_Added'])"
   ]
  },
  {
   "cell_type": "code",
   "execution_count": 6,
   "metadata": {},
   "outputs": [
    {
     "data": {
      "text/plain": [
       "[Timestamp('2022-12-03 05:20:31')]"
      ]
     },
     "execution_count": 6,
     "metadata": {},
     "output_type": "execute_result"
    }
   ],
   "source": [
    "df[df['Date'].isna()].loc[:,\"Date_Added\"].tolist()"
   ]
  },
  {
   "cell_type": "code",
   "execution_count": 7,
   "metadata": {},
   "outputs": [],
   "source": [
    "df.loc[df['Date'].isna(),\"Date\"] = df[df['Date'].isna()].loc[:,\"Date_Added\"]"
   ]
  },
  {
   "cell_type": "code",
   "execution_count": 8,
   "metadata": {},
   "outputs": [
    {
     "name": "stdout",
     "output_type": "stream",
     "text": [
      "<class 'pandas.core.frame.DataFrame'>\n",
      "RangeIndex: 1841 entries, 0 to 1840\n",
      "Data columns (total 12 columns):\n",
      " #   Column                      Non-Null Count  Dtype         \n",
      "---  ------                      --------------  -----         \n",
      " 0   Company                     1841 non-null   object        \n",
      " 1   Location                    1841 non-null   object        \n",
      " 2   Industry                    1841 non-null   object        \n",
      " 3   Laid_Off_Count              1282 non-null   float64       \n",
      " 4   Percentage                  1241 non-null   float64       \n",
      " 5   Date                        1841 non-null   datetime64[ns]\n",
      " 6   Source                      1841 non-null   object        \n",
      " 7   Funds_Raised                1704 non-null   float64       \n",
      " 8   Stage                       1841 non-null   object        \n",
      " 9   Date_Added                  1841 non-null   datetime64[ns]\n",
      " 10  Country                     1841 non-null   object        \n",
      " 11  List_of_Employees_Laid_Off  1841 non-null   object        \n",
      "dtypes: datetime64[ns](2), float64(3), object(7)\n",
      "memory usage: 172.7+ KB\n"
     ]
    }
   ],
   "source": [
    "df.info()"
   ]
  },
  {
   "cell_type": "code",
   "execution_count": 9,
   "metadata": {},
   "outputs": [
    {
     "name": "stderr",
     "output_type": "stream",
     "text": [
      "/tmp/ipykernel_78941/1985922364.py:1: FutureWarning: Treating datetime data as categorical rather than numeric in `.describe` is deprecated and will be removed in a future version of pandas. Specify `datetime_is_numeric=True` to silence this warning and adopt the future behavior now.\n",
      "  df.describe(include=\"all\")\n",
      "/tmp/ipykernel_78941/1985922364.py:1: FutureWarning: Treating datetime data as categorical rather than numeric in `.describe` is deprecated and will be removed in a future version of pandas. Specify `datetime_is_numeric=True` to silence this warning and adopt the future behavior now.\n",
      "  df.describe(include=\"all\")\n"
     ]
    },
    {
     "data": {
      "text/html": [
       "<div>\n",
       "<style scoped>\n",
       "    .dataframe tbody tr th:only-of-type {\n",
       "        vertical-align: middle;\n",
       "    }\n",
       "\n",
       "    .dataframe tbody tr th {\n",
       "        vertical-align: top;\n",
       "    }\n",
       "\n",
       "    .dataframe thead th {\n",
       "        text-align: right;\n",
       "    }\n",
       "</style>\n",
       "<table border=\"1\" class=\"dataframe\">\n",
       "  <thead>\n",
       "    <tr style=\"text-align: right;\">\n",
       "      <th></th>\n",
       "      <th>Company</th>\n",
       "      <th>Location</th>\n",
       "      <th>Industry</th>\n",
       "      <th>Laid_Off_Count</th>\n",
       "      <th>Percentage</th>\n",
       "      <th>Date</th>\n",
       "      <th>Source</th>\n",
       "      <th>Funds_Raised</th>\n",
       "      <th>Stage</th>\n",
       "      <th>Date_Added</th>\n",
       "      <th>Country</th>\n",
       "      <th>List_of_Employees_Laid_Off</th>\n",
       "    </tr>\n",
       "  </thead>\n",
       "  <tbody>\n",
       "    <tr>\n",
       "      <th>count</th>\n",
       "      <td>1841</td>\n",
       "      <td>1841</td>\n",
       "      <td>1841</td>\n",
       "      <td>1282.000000</td>\n",
       "      <td>1241.000000</td>\n",
       "      <td>1841</td>\n",
       "      <td>1841</td>\n",
       "      <td>1704.000000</td>\n",
       "      <td>1841</td>\n",
       "      <td>1841</td>\n",
       "      <td>1841</td>\n",
       "      <td>1841</td>\n",
       "    </tr>\n",
       "    <tr>\n",
       "      <th>unique</th>\n",
       "      <td>1530</td>\n",
       "      <td>164</td>\n",
       "      <td>28</td>\n",
       "      <td>NaN</td>\n",
       "      <td>NaN</td>\n",
       "      <td>419</td>\n",
       "      <td>1658</td>\n",
       "      <td>NaN</td>\n",
       "      <td>15</td>\n",
       "      <td>1802</td>\n",
       "      <td>56</td>\n",
       "      <td>93</td>\n",
       "    </tr>\n",
       "    <tr>\n",
       "      <th>top</th>\n",
       "      <td>OYO</td>\n",
       "      <td>SF Bay Area</td>\n",
       "      <td>Finance</td>\n",
       "      <td>NaN</td>\n",
       "      <td>NaN</td>\n",
       "      <td>2020-04-02 00:00:00</td>\n",
       "      <td>Internal memo</td>\n",
       "      <td>NaN</td>\n",
       "      <td>Unknown</td>\n",
       "      <td>2020-03-28 20:52:49</td>\n",
       "      <td>United States</td>\n",
       "      <td>Unknown</td>\n",
       "    </tr>\n",
       "    <tr>\n",
       "      <th>freq</th>\n",
       "      <td>5</td>\n",
       "      <td>485</td>\n",
       "      <td>231</td>\n",
       "      <td>NaN</td>\n",
       "      <td>NaN</td>\n",
       "      <td>27</td>\n",
       "      <td>77</td>\n",
       "      <td>NaN</td>\n",
       "      <td>318</td>\n",
       "      <td>40</td>\n",
       "      <td>1209</td>\n",
       "      <td>1748</td>\n",
       "    </tr>\n",
       "    <tr>\n",
       "      <th>first</th>\n",
       "      <td>NaN</td>\n",
       "      <td>NaN</td>\n",
       "      <td>NaN</td>\n",
       "      <td>NaN</td>\n",
       "      <td>NaN</td>\n",
       "      <td>2020-03-11 00:00:00</td>\n",
       "      <td>NaN</td>\n",
       "      <td>NaN</td>\n",
       "      <td>NaN</td>\n",
       "      <td>2020-03-28 20:52:49</td>\n",
       "      <td>NaN</td>\n",
       "      <td>NaN</td>\n",
       "    </tr>\n",
       "    <tr>\n",
       "      <th>last</th>\n",
       "      <td>NaN</td>\n",
       "      <td>NaN</td>\n",
       "      <td>NaN</td>\n",
       "      <td>NaN</td>\n",
       "      <td>NaN</td>\n",
       "      <td>2022-12-21 00:00:00</td>\n",
       "      <td>NaN</td>\n",
       "      <td>NaN</td>\n",
       "      <td>NaN</td>\n",
       "      <td>2022-12-24 04:15:01</td>\n",
       "      <td>NaN</td>\n",
       "      <td>NaN</td>\n",
       "    </tr>\n",
       "    <tr>\n",
       "      <th>mean</th>\n",
       "      <td>NaN</td>\n",
       "      <td>NaN</td>\n",
       "      <td>NaN</td>\n",
       "      <td>193.769111</td>\n",
       "      <td>0.271988</td>\n",
       "      <td>NaN</td>\n",
       "      <td>NaN</td>\n",
       "      <td>848.801817</td>\n",
       "      <td>NaN</td>\n",
       "      <td>NaN</td>\n",
       "      <td>NaN</td>\n",
       "      <td>NaN</td>\n",
       "    </tr>\n",
       "    <tr>\n",
       "      <th>std</th>\n",
       "      <td>NaN</td>\n",
       "      <td>NaN</td>\n",
       "      <td>NaN</td>\n",
       "      <td>556.172347</td>\n",
       "      <td>0.263107</td>\n",
       "      <td>NaN</td>\n",
       "      <td>NaN</td>\n",
       "      <td>6207.645051</td>\n",
       "      <td>NaN</td>\n",
       "      <td>NaN</td>\n",
       "      <td>NaN</td>\n",
       "      <td>NaN</td>\n",
       "    </tr>\n",
       "    <tr>\n",
       "      <th>min</th>\n",
       "      <td>NaN</td>\n",
       "      <td>NaN</td>\n",
       "      <td>NaN</td>\n",
       "      <td>3.000000</td>\n",
       "      <td>0.000000</td>\n",
       "      <td>NaN</td>\n",
       "      <td>NaN</td>\n",
       "      <td>0.000000</td>\n",
       "      <td>NaN</td>\n",
       "      <td>NaN</td>\n",
       "      <td>NaN</td>\n",
       "      <td>NaN</td>\n",
       "    </tr>\n",
       "    <tr>\n",
       "      <th>25%</th>\n",
       "      <td>NaN</td>\n",
       "      <td>NaN</td>\n",
       "      <td>NaN</td>\n",
       "      <td>31.250000</td>\n",
       "      <td>0.100000</td>\n",
       "      <td>NaN</td>\n",
       "      <td>NaN</td>\n",
       "      <td>45.000000</td>\n",
       "      <td>NaN</td>\n",
       "      <td>NaN</td>\n",
       "      <td>NaN</td>\n",
       "      <td>NaN</td>\n",
       "    </tr>\n",
       "    <tr>\n",
       "      <th>50%</th>\n",
       "      <td>NaN</td>\n",
       "      <td>NaN</td>\n",
       "      <td>NaN</td>\n",
       "      <td>70.000000</td>\n",
       "      <td>0.180000</td>\n",
       "      <td>NaN</td>\n",
       "      <td>NaN</td>\n",
       "      <td>139.500000</td>\n",
       "      <td>NaN</td>\n",
       "      <td>NaN</td>\n",
       "      <td>NaN</td>\n",
       "      <td>NaN</td>\n",
       "    </tr>\n",
       "    <tr>\n",
       "      <th>75%</th>\n",
       "      <td>NaN</td>\n",
       "      <td>NaN</td>\n",
       "      <td>NaN</td>\n",
       "      <td>150.000000</td>\n",
       "      <td>0.310000</td>\n",
       "      <td>NaN</td>\n",
       "      <td>NaN</td>\n",
       "      <td>404.150000</td>\n",
       "      <td>NaN</td>\n",
       "      <td>NaN</td>\n",
       "      <td>NaN</td>\n",
       "      <td>NaN</td>\n",
       "    </tr>\n",
       "    <tr>\n",
       "      <th>max</th>\n",
       "      <td>NaN</td>\n",
       "      <td>NaN</td>\n",
       "      <td>NaN</td>\n",
       "      <td>11000.000000</td>\n",
       "      <td>1.000000</td>\n",
       "      <td>NaN</td>\n",
       "      <td>NaN</td>\n",
       "      <td>121900.000000</td>\n",
       "      <td>NaN</td>\n",
       "      <td>NaN</td>\n",
       "      <td>NaN</td>\n",
       "      <td>NaN</td>\n",
       "    </tr>\n",
       "  </tbody>\n",
       "</table>\n",
       "</div>"
      ],
      "text/plain": [
       "       Company     Location Industry  Laid_Off_Count   Percentage  \\\n",
       "count     1841         1841     1841     1282.000000  1241.000000   \n",
       "unique    1530          164       28             NaN          NaN   \n",
       "top        OYO  SF Bay Area  Finance             NaN          NaN   \n",
       "freq         5          485      231             NaN          NaN   \n",
       "first      NaN          NaN      NaN             NaN          NaN   \n",
       "last       NaN          NaN      NaN             NaN          NaN   \n",
       "mean       NaN          NaN      NaN      193.769111     0.271988   \n",
       "std        NaN          NaN      NaN      556.172347     0.263107   \n",
       "min        NaN          NaN      NaN        3.000000     0.000000   \n",
       "25%        NaN          NaN      NaN       31.250000     0.100000   \n",
       "50%        NaN          NaN      NaN       70.000000     0.180000   \n",
       "75%        NaN          NaN      NaN      150.000000     0.310000   \n",
       "max        NaN          NaN      NaN    11000.000000     1.000000   \n",
       "\n",
       "                       Date         Source   Funds_Raised    Stage  \\\n",
       "count                  1841           1841    1704.000000     1841   \n",
       "unique                  419           1658            NaN       15   \n",
       "top     2020-04-02 00:00:00  Internal memo            NaN  Unknown   \n",
       "freq                     27             77            NaN      318   \n",
       "first   2020-03-11 00:00:00            NaN            NaN      NaN   \n",
       "last    2022-12-21 00:00:00            NaN            NaN      NaN   \n",
       "mean                    NaN            NaN     848.801817      NaN   \n",
       "std                     NaN            NaN    6207.645051      NaN   \n",
       "min                     NaN            NaN       0.000000      NaN   \n",
       "25%                     NaN            NaN      45.000000      NaN   \n",
       "50%                     NaN            NaN     139.500000      NaN   \n",
       "75%                     NaN            NaN     404.150000      NaN   \n",
       "max                     NaN            NaN  121900.000000      NaN   \n",
       "\n",
       "                 Date_Added        Country List_of_Employees_Laid_Off  \n",
       "count                  1841           1841                       1841  \n",
       "unique                 1802             56                         93  \n",
       "top     2020-03-28 20:52:49  United States                    Unknown  \n",
       "freq                     40           1209                       1748  \n",
       "first   2020-03-28 20:52:49            NaN                        NaN  \n",
       "last    2022-12-24 04:15:01            NaN                        NaN  \n",
       "mean                    NaN            NaN                        NaN  \n",
       "std                     NaN            NaN                        NaN  \n",
       "min                     NaN            NaN                        NaN  \n",
       "25%                     NaN            NaN                        NaN  \n",
       "50%                     NaN            NaN                        NaN  \n",
       "75%                     NaN            NaN                        NaN  \n",
       "max                     NaN            NaN                        NaN  "
      ]
     },
     "execution_count": 9,
     "metadata": {},
     "output_type": "execute_result"
    }
   ],
   "source": [
    "df.describe(include=\"all\")"
   ]
  },
  {
   "cell_type": "code",
   "execution_count": 10,
   "metadata": {},
   "outputs": [
    {
     "data": {
      "text/plain": [
       "<AxesSubplot: title={'center': 'Layoffs by Year'}, ylabel='count'>"
      ]
     },
     "execution_count": 10,
     "metadata": {},
     "output_type": "execute_result"
    },
    {
     "data": {
      "image/png": "[encoded data removed]",
      "text/plain": [
       "<Figure size 432x288 with 1 Axes>"
      ]
     },
     "metadata": {
      "needs_background": "light"
     },
     "output_type": "display_data"
    }
   ],
   "source": [
    "import matplotlib.pyplot as plt\n",
    "plt.title(\"Layoffs by Year\")\n",
    "sns.countplot(x=[d.strftime('%y') for d in df['Date']])"
   ]
  },
  {
   "cell_type": "code",
   "execution_count": 11,
   "metadata": {},
   "outputs": [
    {
     "data": {
      "text/plain": [
       "Text(0.5, 0, '')"
      ]
     },
     "execution_count": 11,
     "metadata": {},
     "output_type": "execute_result"
    },
    {
     "data": {
      "image/png": "[encoded data removed]",
      "text/plain": [
       "<Figure size 360x720 with 3 Axes>"
      ]
     },
     "metadata": {
      "needs_background": "light"
     },
     "output_type": "display_data"
    }
   ],
   "source": [
    "fig,ax = plt.subplots(3,1,figsize=(5,10),sharex='col')\n",
    "\n",
    "for i,x in df.groupby(by=[d.year for d in df['Date']]):\n",
    "    ax[i-2020].set_title(f\"Layoffs by month in {i}\")\n",
    "    sns.countplot(y=[d.strftime('%b') for d in x['Date']],ax=ax[i-2020])\n",
    "ax[0].set_xlabel(\"\")\n",
    "ax[1].set_xlabel(\"\")\n",
    "    "
   ]
  },
  {
   "cell_type": "code",
   "execution_count": 12,
   "metadata": {},
   "outputs": [
    {
     "data": {
      "text/plain": [
       "<AxesSubplot: title={'center': 'Layoffs by Industry'}, xlabel='count', ylabel='Industry'>"
      ]
     },
     "execution_count": 12,
     "metadata": {},
     "output_type": "execute_result"
    },
    {
     "data": {
      "image/png": "[encoded data removed]",
      "text/plain": [
       "<Figure size 1440x720 with 1 Axes>"
      ]
     },
     "metadata": {
      "needs_background": "light"
     },
     "output_type": "display_data"
    }
   ],
   "source": [
    "plt.figure(figsize=(20,10))\n",
    "plt.title(\"Layoffs by Industry\")\n",
    "sns.countplot(y=df['Industry'],order=df.groupby(by='Industry').count().sort_values(by='Location',ascending=False).index)"
   ]
  },
  {
   "cell_type": "code",
   "execution_count": 13,
   "metadata": {},
   "outputs": [],
   "source": [
    "df2 = df.groupby(by='Country').count().iloc[:,0]"
   ]
  },
  {
   "cell_type": "code",
   "execution_count": 14,
   "metadata": {},
   "outputs": [
    {
     "data": {
      "text/plain": [
       "Index(['Argentina', 'Australia', 'Austria', 'Bahrain', 'Belgium', 'Brazil',\n",
       "       'Bulgaria', 'Canada', 'Chile', 'China', 'Colombia', 'Czech Republic',\n",
       "       'Denmark', 'Egypt', 'Estonia', 'Finland', 'France', 'Germany', 'Ghana',\n",
       "       'Greece', 'Hong Kong', 'Hungary', 'India', 'Indonesia', 'Ireland',\n",
       "       'Israel', 'Kenya', 'Lithuania', 'Luxembourg', 'Malaysia', 'Mexico',\n",
       "       'Myanmar', 'Netherlands', 'New Zealand', 'Nigeria', 'Norway',\n",
       "       'Pakistan', 'Peru', 'Poland', 'Portugal', 'Romania', 'Russia',\n",
       "       'Senegal', 'Seychelles', 'Singapore', 'South Africa', 'Spain', 'Sweden',\n",
       "       'Switzerland', 'Thailand', 'Turkey', 'United Arab Emirates',\n",
       "       'United Kingdom', 'United States', 'Uruguay', 'Vietnam'],\n",
       "      dtype='object', name='Country')"
      ]
     },
     "execution_count": 14,
     "metadata": {},
     "output_type": "execute_result"
    }
   ],
   "source": [
    "df2.index"
   ]
  },
  {
   "cell_type": "code",
   "execution_count": 15,
   "metadata": {},
   "outputs": [],
   "source": [
    "df2 = pd.DataFrame(df2)"
   ]
  },
  {
   "cell_type": "code",
   "execution_count": null,
   "metadata": {},
   "outputs": [
    {
     "name": "stdout",
     "output_type": "stream",
     "text": [
      "Estonia\n",
      "Hong Kong\n",
      "Lithuania\n",
      "Luxembourg\n",
      "Russia\n",
      "Seychelles\n",
      "United Arab Emirates\n"
     ]
    }
   ],
   "source": [
    "import plotly.express as px\n",
    "df = px.data.gapminder().query(\"year == 2007\")\n",
    "df2['Country'] = df2.index\n",
    "iso_alpha = []\n",
    "for name in df2.index:\n",
    "    try:\n",
    "        iso_alpha.append(df[df['country']==name].iloc[0,6])\n",
    "    except:\n",
    "        iso_alpha.append(\"\")\n",
    "        print(name)\n",
    "#iso_alpha  = [ for name in df2.index]\n"
   ]
  },
  {
   "cell_type": "code",
   "execution_count": null,
   "metadata": {},
   "outputs": [
    {
     "data": {
      "application/vnd.plotly.v1+json": {
       "config": {
        "plotlyServerURL": "https://plot.ly"
       },
       "data": [
        {
         "geo": "geo",
         "hovertemplate": "Company=%{marker.size}<br>locations=%{location}<extra></extra>",
         "legendgroup": "",
         "locations": [
          "ARG",
          "AUS",
          "AUT",
          "BHR",
          "BEL",
          "BRA",
          "BGR",
          "CAN",
          "CHL",
          "CHN",
          "COL",
          "CZE",
          "DNK",
          "EGY",
          "",
          "FIN",
          "FRA",
          "DEU",
          "GHA",
          "GRC",
          "",
          "HUN",
          "IND",
          "IDN",
          "IRL",
          "ISR",
          "KEN",
          "",
          "",
          "MYS",
          "MEX",
          "MMR",
          "NLD",
          "NZL",
          "NGA",
          "NOR",
          "PAK",
          "PER",
          "POL",
          "PRT",
          "ROU",
          "",
          "SEN",
          "",
          "SGP",
          "ZAF",
          "ESP",
          "SWE",
          "CHE",
          "THA",
          "TUR",
          "",
          "GBR",
          "USA",
          "URY",
          "VNM"
         ],
         "marker": {
          "color": "#636efa",
          "size": [
           5000,
           35000,
           3000,
           1000,
           1000,
           57000,
           1000,
           84000,
           2000,
           12000,
           3000,
           1000,
           4000,
           2000,
           4000,
           1000,
           1000,
           53000,
           1000,
           1000,
           5000,
           1000,
           112000,
           23000,
           4000,
           43000,
           6000,
           1000,
           3000,
           3000,
           4000,
           1000,
           5000,
           2000,
           10000,
           4000,
           3000,
           1000,
           1000,
           2000,
           2000,
           1000,
           1000,
           3000,
           28000,
           1000,
           1000,
           17000,
           2000,
           1000,
           1000,
           6000,
           58000,
           1209000,
           1000,
           3000
          ],
          "sizemode": "area",
          "sizeref": 3022.5,
          "symbol": "circle"
         },
         "mode": "markers",
         "name": "",
         "showlegend": false,
         "type": "scattergeo"
        }
       ],
       "layout": {
        "geo": {
         "center": {},
         "domain": {
          "x": [
           0,
           1
          ],
          "y": [
           0,
           1
          ]
         }
        },
        "legend": {
         "itemsizing": "constant",
         "tracegroupgap": 0
        },
        "margin": {
         "t": 60
        },
        "template": {
         "data": {
          "bar": [
           {
            "error_x": {
             "color": "#2a3f5f"
            },
            "error_y": {
             "color": "#2a3f5f"
            },
            "marker": {
             "line": {
              "color": "#E5ECF6",
              "width": 0.5
             },
             "pattern": {
              "fillmode": "overlay",
              "size": 10,
              "solidity": 0.2
             }
            },
            "type": "bar"
           }
          ],
          "barpolar": [
           {
            "marker": {
             "line": {
              "color": "#E5ECF6",
              "width": 0.5
             },
             "pattern": {
              "fillmode": "overlay",
              "size": 10,
              "solidity": 0.2
             }
            },
            "type": "barpolar"
           }
          ],
          "carpet": [
           {
            "aaxis": {
             "endlinecolor": "#2a3f5f",
             "gridcolor": "white",
             "linecolor": "white",
             "minorgridcolor": "white",
             "startlinecolor": "#2a3f5f"
            },
            "baxis": {
             "endlinecolor": "#2a3f5f",
             "gridcolor": "white",
             "linecolor": "white",
             "minorgridcolor": "white",
             "startlinecolor": "#2a3f5f"
            },
            "type": "carpet"
           }
          ],
          "choropleth": [
           {
            "colorbar": {
             "outlinewidth": 0,
             "ticks": ""
            },
            "type": "choropleth"
           }
          ],
          "contour": [
           {
            "colorbar": {
             "outlinewidth": 0,
             "ticks": ""
            },
            "colorscale": [
             [
              0,
              "#0d0887"
             ],
             [
              0.1111111111111111,
              "#46039f"
             ],
             [
              0.2222222222222222,
              "#7201a8"
             ],
             [
              0.3333333333333333,
              "#9c179e"
             ],
             [
              0.4444444444444444,
              "#bd3786"
             ],
             [
              0.5555555555555556,
              "#d8576b"
             ],
             [
              0.6666666666666666,
              "#ed7953"
             ],
             [
              0.7777777777777778,
              "#fb9f3a"
             ],
             [
              0.8888888888888888,
              "#fdca26"
             ],
             [
              1,
              "#f0f921"
             ]
            ],
            "type": "contour"
           }
          ],
          "contourcarpet": [
           {
            "colorbar": {
             "outlinewidth": 0,
             "ticks": ""
            },
            "type": "contourcarpet"
           }
          ],
          "heatmap": [
           {
            "colorbar": {
             "outlinewidth": 0,
             "ticks": ""
            },
            "colorscale": [
             [
              0,
              "#0d0887"
             ],
             [
              0.1111111111111111,
              "#46039f"
             ],
             [
              0.2222222222222222,
              "#7201a8"
             ],
             [
              0.3333333333333333,
              "#9c179e"
             ],
             [
              0.4444444444444444,
              "#bd3786"
             ],
             [
              0.5555555555555556,
              "#d8576b"
             ],
             [
              0.6666666666666666,
              "#ed7953"
             ],
             [
              0.7777777777777778,
              "#fb9f3a"
             ],
             [
              0.8888888888888888,
              "#fdca26"
             ],
             [
              1,
              "#f0f921"
             ]
            ],
            "type": "heatmap"
           }
          ],
          "heatmapgl": [
           {
            "colorbar": {
             "outlinewidth": 0,
             "ticks": ""
            },
            "colorscale": [
             [
              0,
              "#0d0887"
             ],
             [
              0.1111111111111111,
              "#46039f"
             ],
             [
              0.2222222222222222,
              "#7201a8"
             ],
             [
              0.3333333333333333,
              "#9c179e"
             ],
             [
              0.4444444444444444,
              "#bd3786"
             ],
             [
              0.5555555555555556,
              "#d8576b"
             ],
             [
              0.6666666666666666,
              "#ed7953"
             ],
             [
              0.7777777777777778,
              "#fb9f3a"
             ],
             [
              0.8888888888888888,
              "#fdca26"
             ],
             [
              1,
              "#f0f921"
             ]
            ],
            "type": "heatmapgl"
           }
          ],
          "histogram": [
           {
            "marker": {
             "pattern": {
              "fillmode": "overlay",
              "size": 10,
              "solidity": 0.2
             }
            },
            "type": "histogram"
           }
          ],
          "histogram2d": [
           {
            "colorbar": {
             "outlinewidth": 0,
             "ticks": ""
            },
            "colorscale": [
             [
              0,
              "#0d0887"
             ],
             [
              0.1111111111111111,
              "#46039f"
             ],
             [
              0.2222222222222222,
              "#7201a8"
             ],
             [
              0.3333333333333333,
              "#9c179e"
             ],
             [
              0.4444444444444444,
              "#bd3786"
             ],
             [
              0.5555555555555556,
              "#d8576b"
             ],
             [
              0.6666666666666666,
              "#ed7953"
             ],
             [
              0.7777777777777778,
              "#fb9f3a"
             ],
             [
              0.8888888888888888,
              "#fdca26"
             ],
             [
              1,
              "#f0f921"
             ]
            ],
            "type": "histogram2d"
           }
          ],
          "histogram2dcontour": [
           {
            "colorbar": {
             "outlinewidth": 0,
             "ticks": ""
            },
            "colorscale": [
             [
              0,
              "#0d0887"
             ],
             [
              0.1111111111111111,
              "#46039f"
             ],
             [
              0.2222222222222222,
              "#7201a8"
             ],
             [
              0.3333333333333333,
              "#9c179e"
             ],
             [
              0.4444444444444444,
              "#bd3786"
             ],
             [
              0.5555555555555556,
              "#d8576b"
             ],
             [
              0.6666666666666666,
              "#ed7953"
             ],
             [
              0.7777777777777778,
              "#fb9f3a"
             ],
             [
              0.8888888888888888,
              "#fdca26"
             ],
             [
              1,
              "#f0f921"
             ]
            ],
            "type": "histogram2dcontour"
           }
          ],
          "mesh3d": [
           {
            "colorbar": {
             "outlinewidth": 0,
             "ticks": ""
            },
            "type": "mesh3d"
           }
          ],
          "parcoords": [
           {
            "line": {
             "colorbar": {
              "outlinewidth": 0,
              "ticks": ""
             }
            },
            "type": "parcoords"
           }
          ],
          "pie": [
           {
            "automargin": true,
            "type": "pie"
           }
          ],
          "scatter": [
           {
            "fillpattern": {
             "fillmode": "overlay",
             "size": 10,
             "solidity": 0.2
            },
            "type": "scatter"
           }
          ],
          "scatter3d": [
           {
            "line": {
             "colorbar": {
              "outlinewidth": 0,
              "ticks": ""
             }
            },
            "marker": {
             "colorbar": {
              "outlinewidth": 0,
              "ticks": ""
             }
            },
            "type": "scatter3d"
           }
          ],
          "scattercarpet": [
           {
            "marker": {
             "colorbar": {
              "outlinewidth": 0,
              "ticks": ""
             }
            },
            "type": "scattercarpet"
           }
          ],
          "scattergeo": [
           {
            "marker": {
             "colorbar": {
              "outlinewidth": 0,
              "ticks": ""
             }
            },
            "type": "scattergeo"
           }
          ],
          "scattergl": [
           {
            "marker": {
             "colorbar": {
              "outlinewidth": 0,
              "ticks": ""
             }
            },
            "type": "scattergl"
           }
          ],
          "scattermapbox": [
           {
            "marker": {
             "colorbar": {
              "outlinewidth": 0,
              "ticks": ""
             }
            },
            "type": "scattermapbox"
           }
          ],
          "scatterpolar": [
           {
            "marker": {
             "colorbar": {
              "outlinewidth": 0,
              "ticks": ""
             }
            },
            "type": "scatterpolar"
           }
          ],
          "scatterpolargl": [
           {
            "marker": {
             "colorbar": {
              "outlinewidth": 0,
              "ticks": ""
             }
            },
            "type": "scatterpolargl"
           }
          ],
          "scatterternary": [
           {
            "marker": {
             "colorbar": {
              "outlinewidth": 0,
              "ticks": ""
             }
            },
            "type": "scatterternary"
           }
          ],
          "surface": [
           {
            "colorbar": {
             "outlinewidth": 0,
             "ticks": ""
            },
            "colorscale": [
             [
              0,
              "#0d0887"
             ],
             [
              0.1111111111111111,
              "#46039f"
             ],
             [
              0.2222222222222222,
              "#7201a8"
             ],
             [
              0.3333333333333333,
              "#9c179e"
             ],
             [
              0.4444444444444444,
              "#bd3786"
             ],
             [
              0.5555555555555556,
              "#d8576b"
             ],
             [
              0.6666666666666666,
              "#ed7953"
             ],
             [
              0.7777777777777778,
              "#fb9f3a"
             ],
             [
              0.8888888888888888,
              "#fdca26"
             ],
             [
              1,
              "#f0f921"
             ]
            ],
            "type": "surface"
           }
          ],
          "table": [
           {
            "cells": {
             "fill": {
              "color": "#EBF0F8"
             },
             "line": {
              "color": "white"
             }
            },
            "header": {
             "fill": {
              "color": "#C8D4E3"
             },
             "line": {
              "color": "white"
             }
            },
            "type": "table"
           }
          ]
         },
         "layout": {
          "annotationdefaults": {
           "arrowcolor": "#2a3f5f",
           "arrowhead": 0,
           "arrowwidth": 1
          },
          "autotypenumbers": "strict",
          "coloraxis": {
           "colorbar": {
            "outlinewidth": 0,
            "ticks": ""
           }
          },
          "colorscale": {
           "diverging": [
            [
             0,
             "#8e0152"
            ],
            [
             0.1,
             "#c51b7d"
            ],
            [
             0.2,
             "#de77ae"
            ],
            [
             0.3,
             "#f1b6da"
            ],
            [
             0.4,
             "#fde0ef"
            ],
            [
             0.5,
             "#f7f7f7"
            ],
            [
             0.6,
             "#e6f5d0"
            ],
            [
             0.7,
             "#b8e186"
            ],
            [
             0.8,
             "#7fbc41"
            ],
            [
             0.9,
             "#4d9221"
            ],
            [
             1,
             "#276419"
            ]
           ],
           "sequential": [
            [
             0,
             "#0d0887"
            ],
            [
             0.1111111111111111,
             "#46039f"
            ],
            [
             0.2222222222222222,
             "#7201a8"
            ],
            [
             0.3333333333333333,
             "#9c179e"
            ],
            [
             0.4444444444444444,
             "#bd3786"
            ],
            [
             0.5555555555555556,
             "#d8576b"
            ],
            [
             0.6666666666666666,
             "#ed7953"
            ],
            [
             0.7777777777777778,
             "#fb9f3a"
            ],
            [
             0.8888888888888888,
             "#fdca26"
            ],
            [
             1,
             "#f0f921"
            ]
           ],
           "sequentialminus": [
            [
             0,
             "#0d0887"
            ],
            [
             0.1111111111111111,
             "#46039f"
            ],
            [
             0.2222222222222222,
             "#7201a8"
            ],
            [
             0.3333333333333333,
             "#9c179e"
            ],
            [
             0.4444444444444444,
             "#bd3786"
            ],
            [
             0.5555555555555556,
             "#d8576b"
            ],
            [
             0.6666666666666666,
             "#ed7953"
            ],
            [
             0.7777777777777778,
             "#fb9f3a"
            ],
            [
             0.8888888888888888,
             "#fdca26"
            ],
            [
             1,
             "#f0f921"
            ]
           ]
          },
          "colorway": [
           "#636efa",
           "#EF553B",
           "#00cc96",
           "#ab63fa",
           "#FFA15A",
           "#19d3f3",
           "#FF6692",
           "#B6E880",
           "#FF97FF",
           "#FECB52"
          ],
          "font": {
           "color": "#2a3f5f"
          },
          "geo": {
           "bgcolor": "white",
           "lakecolor": "white",
           "landcolor": "#E5ECF6",
           "showlakes": true,
           "showland": true,
           "subunitcolor": "white"
          },
          "hoverlabel": {
           "align": "left"
          },
          "hovermode": "closest",
          "mapbox": {
           "style": "light"
          },
          "paper_bgcolor": "white",
          "plot_bgcolor": "#E5ECF6",
          "polar": {
           "angularaxis": {
            "gridcolor": "white",
            "linecolor": "white",
            "ticks": ""
           },
           "bgcolor": "#E5ECF6",
           "radialaxis": {
            "gridcolor": "white",
            "linecolor": "white",
            "ticks": ""
           }
          },
          "scene": {
           "xaxis": {
            "backgroundcolor": "#E5ECF6",
            "gridcolor": "white",
            "gridwidth": 2,
            "linecolor": "white",
            "showbackground": true,
            "ticks": "",
            "zerolinecolor": "white"
           },
           "yaxis": {
            "backgroundcolor": "#E5ECF6",
            "gridcolor": "white",
            "gridwidth": 2,
            "linecolor": "white",
            "showbackground": true,
            "ticks": "",
            "zerolinecolor": "white"
           },
           "zaxis": {
            "backgroundcolor": "#E5ECF6",
            "gridcolor": "white",
            "gridwidth": 2,
            "linecolor": "white",
            "showbackground": true,
            "ticks": "",
            "zerolinecolor": "white"
           }
          },
          "shapedefaults": {
           "line": {
            "color": "#2a3f5f"
           }
          },
          "ternary": {
           "aaxis": {
            "gridcolor": "white",
            "linecolor": "white",
            "ticks": ""
           },
           "baxis": {
            "gridcolor": "white",
            "linecolor": "white",
            "ticks": ""
           },
           "bgcolor": "#E5ECF6",
           "caxis": {
            "gridcolor": "white",
            "linecolor": "white",
            "ticks": ""
           }
          },
          "title": {
           "x": 0.05
          },
          "xaxis": {
           "automargin": true,
           "gridcolor": "white",
           "linecolor": "white",
           "ticks": "",
           "title": {
            "standoff": 15
           },
           "zerolinecolor": "white",
           "zerolinewidth": 2
          },
          "yaxis": {
           "automargin": true,
           "gridcolor": "white",
           "linecolor": "white",
           "ticks": "",
           "title": {
            "standoff": 15
           },
           "zerolinecolor": "white",
           "zerolinewidth": 2
          }
         }
        }
       }
      },
      "text/html": [
       "<div>                            <div id=\"fe27b874-e7b3-498d-bbdc-c1c5c73111dc\" class=\"plotly-graph-div\" style=\"height:525px; width:100%;\"></div>            <script type=\"text/javascript\">                require([\"plotly\"], function(Plotly) {                    window.PLOTLYENV=window.PLOTLYENV || {};                                    if (document.getElementById(\"fe27b874-e7b3-498d-bbdc-c1c5c73111dc\")) {                    Plotly.newPlot(                        \"fe27b874-e7b3-498d-bbdc-c1c5c73111dc\",                        [{\"geo\":\"geo\",\"hovertemplate\":\"Company=%{marker.size}<br>locations=%{location}<extra></extra>\",\"legendgroup\":\"\",\"locations\":[\"ARG\",\"AUS\",\"AUT\",\"BHR\",\"BEL\",\"BRA\",\"BGR\",\"CAN\",\"CHL\",\"CHN\",\"COL\",\"CZE\",\"DNK\",\"EGY\",\"\",\"FIN\",\"FRA\",\"DEU\",\"GHA\",\"GRC\",\"\",\"HUN\",\"IND\",\"IDN\",\"IRL\",\"ISR\",\"KEN\",\"\",\"\",\"MYS\",\"MEX\",\"MMR\",\"NLD\",\"NZL\",\"NGA\",\"NOR\",\"PAK\",\"PER\",\"POL\",\"PRT\",\"ROU\",\"\",\"SEN\",\"\",\"SGP\",\"ZAF\",\"ESP\",\"SWE\",\"CHE\",\"THA\",\"TUR\",\"\",\"GBR\",\"USA\",\"URY\",\"VNM\"],\"marker\":{\"color\":\"#636efa\",\"size\":[5000,35000,3000,1000,1000,57000,1000,84000,2000,12000,3000,1000,4000,2000,4000,1000,1000,53000,1000,1000,5000,1000,112000,23000,4000,43000,6000,1000,3000,3000,4000,1000,5000,2000,10000,4000,3000,1000,1000,2000,2000,1000,1000,3000,28000,1000,1000,17000,2000,1000,1000,6000,58000,1209000,1000,3000],\"sizemode\":\"area\",\"sizeref\":3022.5,\"symbol\":\"circle\"},\"mode\":\"markers\",\"name\":\"\",\"showlegend\":false,\"type\":\"scattergeo\"}],                        {\"template\":{\"data\":{\"histogram2dcontour\":[{\"type\":\"histogram2dcontour\",\"colorbar\":{\"outlinewidth\":0,\"ticks\":\"\"},\"colorscale\":[[0.0,\"#0d0887\"],[0.1111111111111111,\"#46039f\"],[0.2222222222222222,\"#7201a8\"],[0.3333333333333333,\"#9c179e\"],[0.4444444444444444,\"#bd3786\"],[0.5555555555555556,\"#d8576b\"],[0.6666666666666666,\"#ed7953\"],[0.7777777777777778,\"#fb9f3a\"],[0.8888888888888888,\"#fdca26\"],[1.0,\"#f0f921\"]]}],\"choropleth\":[{\"type\":\"choropleth\",\"colorbar\":{\"outlinewidth\":0,\"ticks\":\"\"}}],\"histogram2d\":[{\"type\":\"histogram2d\",\"colorbar\":{\"outlinewidth\":0,\"ticks\":\"\"},\"colorscale\":[[0.0,\"#0d0887\"],[0.1111111111111111,\"#46039f\"],[0.2222222222222222,\"#7201a8\"],[0.3333333333333333,\"#9c179e\"],[0.4444444444444444,\"#bd3786\"],[0.5555555555555556,\"#d8576b\"],[0.6666666666666666,\"#ed7953\"],[0.7777777777777778,\"#fb9f3a\"],[0.8888888888888888,\"#fdca26\"],[1.0,\"#f0f921\"]]}],\"heatmap\":[{\"type\":\"heatmap\",\"colorbar\":{\"outlinewidth\":0,\"ticks\":\"\"},\"colorscale\":[[0.0,\"#0d0887\"],[0.1111111111111111,\"#46039f\"],[0.2222222222222222,\"#7201a8\"],[0.3333333333333333,\"#9c179e\"],[0.4444444444444444,\"#bd3786\"],[0.5555555555555556,\"#d8576b\"],[0.6666666666666666,\"#ed7953\"],[0.7777777777777778,\"#fb9f3a\"],[0.8888888888888888,\"#fdca26\"],[1.0,\"#f0f921\"]]}],\"heatmapgl\":[{\"type\":\"heatmapgl\",\"colorbar\":{\"outlinewidth\":0,\"ticks\":\"\"},\"colorscale\":[[0.0,\"#0d0887\"],[0.1111111111111111,\"#46039f\"],[0.2222222222222222,\"#7201a8\"],[0.3333333333333333,\"#9c179e\"],[0.4444444444444444,\"#bd3786\"],[0.5555555555555556,\"#d8576b\"],[0.6666666666666666,\"#ed7953\"],[0.7777777777777778,\"#fb9f3a\"],[0.8888888888888888,\"#fdca26\"],[1.0,\"#f0f921\"]]}],\"contourcarpet\":[{\"type\":\"contourcarpet\",\"colorbar\":{\"outlinewidth\":0,\"ticks\":\"\"}}],\"contour\":[{\"type\":\"contour\",\"colorbar\":{\"outlinewidth\":0,\"ticks\":\"\"},\"colorscale\":[[0.0,\"#0d0887\"],[0.1111111111111111,\"#46039f\"],[0.2222222222222222,\"#7201a8\"],[0.3333333333333333,\"#9c179e\"],[0.4444444444444444,\"#bd3786\"],[0.5555555555555556,\"#d8576b\"],[0.6666666666666666,\"#ed7953\"],[0.7777777777777778,\"#fb9f3a\"],[0.8888888888888888,\"#fdca26\"],[1.0,\"#f0f921\"]]}],\"surface\":[{\"type\":\"surface\",\"colorbar\":{\"outlinewidth\":0,\"ticks\":\"\"},\"colorscale\":[[0.0,\"#0d0887\"],[0.1111111111111111,\"#46039f\"],[0.2222222222222222,\"#7201a8\"],[0.3333333333333333,\"#9c179e\"],[0.4444444444444444,\"#bd3786\"],[0.5555555555555556,\"#d8576b\"],[0.6666666666666666,\"#ed7953\"],[0.7777777777777778,\"#fb9f3a\"],[0.8888888888888888,\"#fdca26\"],[1.0,\"#f0f921\"]]}],\"mesh3d\":[{\"type\":\"mesh3d\",\"colorbar\":{\"outlinewidth\":0,\"ticks\":\"\"}}],\"scatter\":[{\"fillpattern\":{\"fillmode\":\"overlay\",\"size\":10,\"solidity\":0.2},\"type\":\"scatter\"}],\"parcoords\":[{\"type\":\"parcoords\",\"line\":{\"colorbar\":{\"outlinewidth\":0,\"ticks\":\"\"}}}],\"scatterpolargl\":[{\"type\":\"scatterpolargl\",\"marker\":{\"colorbar\":{\"outlinewidth\":0,\"ticks\":\"\"}}}],\"bar\":[{\"error_x\":{\"color\":\"#2a3f5f\"},\"error_y\":{\"color\":\"#2a3f5f\"},\"marker\":{\"line\":{\"color\":\"#E5ECF6\",\"width\":0.5},\"pattern\":{\"fillmode\":\"overlay\",\"size\":10,\"solidity\":0.2}},\"type\":\"bar\"}],\"scattergeo\":[{\"type\":\"scattergeo\",\"marker\":{\"colorbar\":{\"outlinewidth\":0,\"ticks\":\"\"}}}],\"scatterpolar\":[{\"type\":\"scatterpolar\",\"marker\":{\"colorbar\":{\"outlinewidth\":0,\"ticks\":\"\"}}}],\"histogram\":[{\"marker\":{\"pattern\":{\"fillmode\":\"overlay\",\"size\":10,\"solidity\":0.2}},\"type\":\"histogram\"}],\"scattergl\":[{\"type\":\"scattergl\",\"marker\":{\"colorbar\":{\"outlinewidth\":0,\"ticks\":\"\"}}}],\"scatter3d\":[{\"type\":\"scatter3d\",\"line\":{\"colorbar\":{\"outlinewidth\":0,\"ticks\":\"\"}},\"marker\":{\"colorbar\":{\"outlinewidth\":0,\"ticks\":\"\"}}}],\"scattermapbox\":[{\"type\":\"scattermapbox\",\"marker\":{\"colorbar\":{\"outlinewidth\":0,\"ticks\":\"\"}}}],\"scatterternary\":[{\"type\":\"scatterternary\",\"marker\":{\"colorbar\":{\"outlinewidth\":0,\"ticks\":\"\"}}}],\"scattercarpet\":[{\"type\":\"scattercarpet\",\"marker\":{\"colorbar\":{\"outlinewidth\":0,\"ticks\":\"\"}}}],\"carpet\":[{\"aaxis\":{\"endlinecolor\":\"#2a3f5f\",\"gridcolor\":\"white\",\"linecolor\":\"white\",\"minorgridcolor\":\"white\",\"startlinecolor\":\"#2a3f5f\"},\"baxis\":{\"endlinecolor\":\"#2a3f5f\",\"gridcolor\":\"white\",\"linecolor\":\"white\",\"minorgridcolor\":\"white\",\"startlinecolor\":\"#2a3f5f\"},\"type\":\"carpet\"}],\"table\":[{\"cells\":{\"fill\":{\"color\":\"#EBF0F8\"},\"line\":{\"color\":\"white\"}},\"header\":{\"fill\":{\"color\":\"#C8D4E3\"},\"line\":{\"color\":\"white\"}},\"type\":\"table\"}],\"barpolar\":[{\"marker\":{\"line\":{\"color\":\"#E5ECF6\",\"width\":0.5},\"pattern\":{\"fillmode\":\"overlay\",\"size\":10,\"solidity\":0.2}},\"type\":\"barpolar\"}],\"pie\":[{\"automargin\":true,\"type\":\"pie\"}]},\"layout\":{\"autotypenumbers\":\"strict\",\"colorway\":[\"#636efa\",\"#EF553B\",\"#00cc96\",\"#ab63fa\",\"#FFA15A\",\"#19d3f3\",\"#FF6692\",\"#B6E880\",\"#FF97FF\",\"#FECB52\"],\"font\":{\"color\":\"#2a3f5f\"},\"hovermode\":\"closest\",\"hoverlabel\":{\"align\":\"left\"},\"paper_bgcolor\":\"white\",\"plot_bgcolor\":\"#E5ECF6\",\"polar\":{\"bgcolor\":\"#E5ECF6\",\"angularaxis\":{\"gridcolor\":\"white\",\"linecolor\":\"white\",\"ticks\":\"\"},\"radialaxis\":{\"gridcolor\":\"white\",\"linecolor\":\"white\",\"ticks\":\"\"}},\"ternary\":{\"bgcolor\":\"#E5ECF6\",\"aaxis\":{\"gridcolor\":\"white\",\"linecolor\":\"white\",\"ticks\":\"\"},\"baxis\":{\"gridcolor\":\"white\",\"linecolor\":\"white\",\"ticks\":\"\"},\"caxis\":{\"gridcolor\":\"white\",\"linecolor\":\"white\",\"ticks\":\"\"}},\"coloraxis\":{\"colorbar\":{\"outlinewidth\":0,\"ticks\":\"\"}},\"colorscale\":{\"sequential\":[[0.0,\"#0d0887\"],[0.1111111111111111,\"#46039f\"],[0.2222222222222222,\"#7201a8\"],[0.3333333333333333,\"#9c179e\"],[0.4444444444444444,\"#bd3786\"],[0.5555555555555556,\"#d8576b\"],[0.6666666666666666,\"#ed7953\"],[0.7777777777777778,\"#fb9f3a\"],[0.8888888888888888,\"#fdca26\"],[1.0,\"#f0f921\"]],\"sequentialminus\":[[0.0,\"#0d0887\"],[0.1111111111111111,\"#46039f\"],[0.2222222222222222,\"#7201a8\"],[0.3333333333333333,\"#9c179e\"],[0.4444444444444444,\"#bd3786\"],[0.5555555555555556,\"#d8576b\"],[0.6666666666666666,\"#ed7953\"],[0.7777777777777778,\"#fb9f3a\"],[0.8888888888888888,\"#fdca26\"],[1.0,\"#f0f921\"]],\"diverging\":[[0,\"#8e0152\"],[0.1,\"#c51b7d\"],[0.2,\"#de77ae\"],[0.3,\"#f1b6da\"],[0.4,\"#fde0ef\"],[0.5,\"#f7f7f7\"],[0.6,\"#e6f5d0\"],[0.7,\"#b8e186\"],[0.8,\"#7fbc41\"],[0.9,\"#4d9221\"],[1,\"#276419\"]]},\"xaxis\":{\"gridcolor\":\"white\",\"linecolor\":\"white\",\"ticks\":\"\",\"title\":{\"standoff\":15},\"zerolinecolor\":\"white\",\"automargin\":true,\"zerolinewidth\":2},\"yaxis\":{\"gridcolor\":\"white\",\"linecolor\":\"white\",\"ticks\":\"\",\"title\":{\"standoff\":15},\"zerolinecolor\":\"white\",\"automargin\":true,\"zerolinewidth\":2},\"scene\":{\"xaxis\":{\"backgroundcolor\":\"#E5ECF6\",\"gridcolor\":\"white\",\"linecolor\":\"white\",\"showbackground\":true,\"ticks\":\"\",\"zerolinecolor\":\"white\",\"gridwidth\":2},\"yaxis\":{\"backgroundcolor\":\"#E5ECF6\",\"gridcolor\":\"white\",\"linecolor\":\"white\",\"showbackground\":true,\"ticks\":\"\",\"zerolinecolor\":\"white\",\"gridwidth\":2},\"zaxis\":{\"backgroundcolor\":\"#E5ECF6\",\"gridcolor\":\"white\",\"linecolor\":\"white\",\"showbackground\":true,\"ticks\":\"\",\"zerolinecolor\":\"white\",\"gridwidth\":2}},\"shapedefaults\":{\"line\":{\"color\":\"#2a3f5f\"}},\"annotationdefaults\":{\"arrowcolor\":\"#2a3f5f\",\"arrowhead\":0,\"arrowwidth\":1},\"geo\":{\"bgcolor\":\"white\",\"landcolor\":\"#E5ECF6\",\"subunitcolor\":\"white\",\"showland\":true,\"showlakes\":true,\"lakecolor\":\"white\"},\"title\":{\"x\":0.05},\"mapbox\":{\"style\":\"light\"}}},\"geo\":{\"domain\":{\"x\":[0.0,1.0],\"y\":[0.0,1.0]},\"center\":{}},\"legend\":{\"tracegroupgap\":0,\"itemsizing\":\"constant\"},\"margin\":{\"t\":60}},                        {\"responsive\": true}                    ).then(function(){\n",
       "                            \n",
       "var gd = document.getElementById('fe27b874-e7b3-498d-bbdc-c1c5c73111dc');\n",
       "var x = new MutationObserver(function (mutations, observer) {{\n",
       "        var display = window.getComputedStyle(gd).display;\n",
       "        if (!display || display === 'none') {{\n",
       "            console.log([gd, 'removed!']);\n",
       "            Plotly.purge(gd);\n",
       "            observer.disconnect();\n",
       "        }}\n",
       "}});\n",
       "\n",
       "// Listen for the removal of the full notebook cells\n",
       "var notebookContainer = gd.closest('#notebook-container');\n",
       "if (notebookContainer) {{\n",
       "    x.observe(notebookContainer, {childList: true});\n",
       "}}\n",
       "\n",
       "// Listen for the clearing of the current output cell\n",
       "var outputEl = gd.closest('.output');\n",
       "if (outputEl) {{\n",
       "    x.observe(outputEl, {childList: true});\n",
       "}}\n",
       "\n",
       "                        })                };                });            </script>        </div>"
      ]
     },
     "metadata": {},
     "output_type": "display_data"
    }
   ],
   "source": [
    "fig = px.scatter_geo(df2, locations=iso_alpha,\n",
    "                     size=df2[\"Company\"], # size of markers, \"pop\" is one of the columns of gapminder\n",
    "                     )\n",
    "fig.show()\n"
   ]
  },
  {
   "cell_type": "code",
   "execution_count": null,
   "metadata": {},
   "outputs": [
    {
     "data": {
      "text/html": [
       "        <script type=\"text/javascript\">\n",
       "        window.PlotlyConfig = {MathJaxConfig: 'local'};\n",
       "        if (window.MathJax && window.MathJax.Hub && window.MathJax.Hub.Config) {window.MathJax.Hub.Config({SVG: {font: \"STIX-Web\"}});}\n",
       "        if (typeof require !== 'undefined') {\n",
       "        require.undef(\"plotly\");\n",
       "        requirejs.config({\n",
       "            paths: {\n",
       "                'plotly': ['https://cdn.plot.ly/plotly-2.16.1.min']\n",
       "            }\n",
       "        });\n",
       "        require(['plotly'], function(Plotly) {\n",
       "            window._Plotly = Plotly;\n",
       "        });\n",
       "        }\n",
       "        </script>\n",
       "        "
      ]
     },
     "metadata": {},
     "output_type": "display_data"
    },
    {
     "data": {
      "application/vnd.plotly.v1+json": {
       "config": {
        "linkText": "Export to plot.ly",
        "plotlyServerURL": "https://plot.ly",
        "showLink": false
       },
       "data": [
        {
         "colorbar": {
          "title": {
           "text": "Number of layoffs"
          }
         },
         "locationmode": "country names",
         "locations": [
          "Argentina",
          "Australia",
          "Austria",
          "Bahrain",
          "Belgium",
          "Brazil",
          "Bulgaria",
          "Canada",
          "Chile",
          "China",
          "Colombia",
          "Czech Republic",
          "Denmark",
          "Egypt",
          "Estonia",
          "Finland",
          "France",
          "Germany",
          "Ghana",
          "Greece",
          "Hong Kong",
          "Hungary",
          "India",
          "Indonesia",
          "Ireland",
          "Israel",
          "Kenya",
          "Lithuania",
          "Luxembourg",
          "Malaysia",
          "Mexico",
          "Myanmar",
          "Netherlands",
          "New Zealand",
          "Nigeria",
          "Norway",
          "Pakistan",
          "Peru",
          "Poland",
          "Portugal",
          "Romania",
          "Russia",
          "Senegal",
          "Seychelles",
          "Singapore",
          "South Africa",
          "Spain",
          "Sweden",
          "Switzerland",
          "Thailand",
          "Turkey",
          "United Arab Emirates",
          "United Kingdom",
          "United States",
          "Uruguay",
          "Vietnam"
         ],
         "text": [
          "Argentina",
          "Australia",
          "Austria",
          "Bahrain",
          "Belgium",
          "Brazil",
          "Bulgaria",
          "Canada",
          "Chile",
          "China",
          "Colombia",
          "Czech Republic",
          "Denmark",
          "Egypt",
          "Estonia",
          "Finland",
          "France",
          "Germany",
          "Ghana",
          "Greece",
          "Hong Kong",
          "Hungary",
          "India",
          "Indonesia",
          "Ireland",
          "Israel",
          "Kenya",
          "Lithuania",
          "Luxembourg",
          "Malaysia",
          "Mexico",
          "Myanmar",
          "Netherlands",
          "New Zealand",
          "Nigeria",
          "Norway",
          "Pakistan",
          "Peru",
          "Poland",
          "Portugal",
          "Romania",
          "Russia",
          "Senegal",
          "Seychelles",
          "Singapore",
          "South Africa",
          "Spain",
          "Sweden",
          "Switzerland",
          "Thailand",
          "Turkey",
          "United Arab Emirates",
          "United Kingdom",
          "United States",
          "Uruguay",
          "Vietnam"
         ],
         "type": "choropleth",
         "z": [
          5,
          35,
          3,
          1,
          1,
          57,
          1,
          84,
          2,
          12,
          3,
          1,
          4,
          2,
          4,
          1,
          1,
          53,
          1,
          1,
          5,
          1,
          112,
          23,
          4,
          43,
          6,
          1,
          3,
          3,
          4,
          1,
          5,
          2,
          10,
          4,
          3,
          1,
          1,
          2,
          2,
          1,
          1,
          3,
          28,
          1,
          1,
          17,
          2,
          1,
          1,
          6,
          58,
          1209,
          1,
          3
         ]
        }
       ],
       "layout": {
        "template": {
         "data": {
          "bar": [
           {
            "error_x": {
             "color": "#2a3f5f"
            },
            "error_y": {
             "color": "#2a3f5f"
            },
            "marker": {
             "line": {
              "color": "#E5ECF6",
              "width": 0.5
             },
             "pattern": {
              "fillmode": "overlay",
              "size": 10,
              "solidity": 0.2
             }
            },
            "type": "bar"
           }
          ],
          "barpolar": [
           {
            "marker": {
             "line": {
              "color": "#E5ECF6",
              "width": 0.5
             },
             "pattern": {
              "fillmode": "overlay",
              "size": 10,
              "solidity": 0.2
             }
            },
            "type": "barpolar"
           }
          ],
          "carpet": [
           {
            "aaxis": {
             "endlinecolor": "#2a3f5f",
             "gridcolor": "white",
             "linecolor": "white",
             "minorgridcolor": "white",
             "startlinecolor": "#2a3f5f"
            },
            "baxis": {
             "endlinecolor": "#2a3f5f",
             "gridcolor": "white",
             "linecolor": "white",
             "minorgridcolor": "white",
             "startlinecolor": "#2a3f5f"
            },
            "type": "carpet"
           }
          ],
          "choropleth": [
           {
            "colorbar": {
             "outlinewidth": 0,
             "ticks": ""
            },
            "type": "choropleth"
           }
          ],
          "contour": [
           {
            "colorbar": {
             "outlinewidth": 0,
             "ticks": ""
            },
            "colorscale": [
             [
              0,
              "#0d0887"
             ],
             [
              0.1111111111111111,
              "#46039f"
             ],
             [
              0.2222222222222222,
              "#7201a8"
             ],
             [
              0.3333333333333333,
              "#9c179e"
             ],
             [
              0.4444444444444444,
              "#bd3786"
             ],
             [
              0.5555555555555556,
              "#d8576b"
             ],
             [
              0.6666666666666666,
              "#ed7953"
             ],
             [
              0.7777777777777778,
              "#fb9f3a"
             ],
             [
              0.8888888888888888,
              "#fdca26"
             ],
             [
              1,
              "#f0f921"
             ]
            ],
            "type": "contour"
           }
          ],
          "contourcarpet": [
           {
            "colorbar": {
             "outlinewidth": 0,
             "ticks": ""
            },
            "type": "contourcarpet"
           }
          ],
          "heatmap": [
           {
            "colorbar": {
             "outlinewidth": 0,
             "ticks": ""
            },
            "colorscale": [
             [
              0,
              "#0d0887"
             ],
             [
              0.1111111111111111,
              "#46039f"
             ],
             [
              0.2222222222222222,
              "#7201a8"
             ],
             [
              0.3333333333333333,
              "#9c179e"
             ],
             [
              0.4444444444444444,
              "#bd3786"
             ],
             [
              0.5555555555555556,
              "#d8576b"
             ],
             [
              0.6666666666666666,
              "#ed7953"
             ],
             [
              0.7777777777777778,
              "#fb9f3a"
             ],
             [
              0.8888888888888888,
              "#fdca26"
             ],
             [
              1,
              "#f0f921"
             ]
            ],
            "type": "heatmap"
           }
          ],
          "heatmapgl": [
           {
            "colorbar": {
             "outlinewidth": 0,
             "ticks": ""
            },
            "colorscale": [
             [
              0,
              "#0d0887"
             ],
             [
              0.1111111111111111,
              "#46039f"
             ],
             [
              0.2222222222222222,
              "#7201a8"
             ],
             [
              0.3333333333333333,
              "#9c179e"
             ],
             [
              0.4444444444444444,
              "#bd3786"
             ],
             [
              0.5555555555555556,
              "#d8576b"
             ],
             [
              0.6666666666666666,
              "#ed7953"
             ],
             [
              0.7777777777777778,
              "#fb9f3a"
             ],
             [
              0.8888888888888888,
              "#fdca26"
             ],
             [
              1,
              "#f0f921"
             ]
            ],
            "type": "heatmapgl"
           }
          ],
          "histogram": [
           {
            "marker": {
             "pattern": {
              "fillmode": "overlay",
              "size": 10,
              "solidity": 0.2
             }
            },
            "type": "histogram"
           }
          ],
          "histogram2d": [
           {
            "colorbar": {
             "outlinewidth": 0,
             "ticks": ""
            },
            "colorscale": [
             [
              0,
              "#0d0887"
             ],
             [
              0.1111111111111111,
              "#46039f"
             ],
             [
              0.2222222222222222,
              "#7201a8"
             ],
             [
              0.3333333333333333,
              "#9c179e"
             ],
             [
              0.4444444444444444,
              "#bd3786"
             ],
             [
              0.5555555555555556,
              "#d8576b"
             ],
             [
              0.6666666666666666,
              "#ed7953"
             ],
             [
              0.7777777777777778,
              "#fb9f3a"
             ],
             [
              0.8888888888888888,
              "#fdca26"
             ],
             [
              1,
              "#f0f921"
             ]
            ],
            "type": "histogram2d"
           }
          ],
          "histogram2dcontour": [
           {
            "colorbar": {
             "outlinewidth": 0,
             "ticks": ""
            },
            "colorscale": [
             [
              0,
              "#0d0887"
             ],
             [
              0.1111111111111111,
              "#46039f"
             ],
             [
              0.2222222222222222,
              "#7201a8"
             ],
             [
              0.3333333333333333,
              "#9c179e"
             ],
             [
              0.4444444444444444,
              "#bd3786"
             ],
             [
              0.5555555555555556,
              "#d8576b"
             ],
             [
              0.6666666666666666,
              "#ed7953"
             ],
             [
              0.7777777777777778,
              "#fb9f3a"
             ],
             [
              0.8888888888888888,
              "#fdca26"
             ],
             [
              1,
              "#f0f921"
             ]
            ],
            "type": "histogram2dcontour"
           }
          ],
          "mesh3d": [
           {
            "colorbar": {
             "outlinewidth": 0,
             "ticks": ""
            },
            "type": "mesh3d"
           }
          ],
          "parcoords": [
           {
            "line": {
             "colorbar": {
              "outlinewidth": 0,
              "ticks": ""
             }
            },
            "type": "parcoords"
           }
          ],
          "pie": [
           {
            "automargin": true,
            "type": "pie"
           }
          ],
          "scatter": [
           {
            "fillpattern": {
             "fillmode": "overlay",
             "size": 10,
             "solidity": 0.2
            },
            "type": "scatter"
           }
          ],
          "scatter3d": [
           {
            "line": {
             "colorbar": {
              "outlinewidth": 0,
              "ticks": ""
             }
            },
            "marker": {
             "colorbar": {
              "outlinewidth": 0,
              "ticks": ""
             }
            },
            "type": "scatter3d"
           }
          ],
          "scattercarpet": [
           {
            "marker": {
             "colorbar": {
              "outlinewidth": 0,
              "ticks": ""
             }
            },
            "type": "scattercarpet"
           }
          ],
          "scattergeo": [
           {
            "marker": {
             "colorbar": {
              "outlinewidth": 0,
              "ticks": ""
             }
            },
            "type": "scattergeo"
           }
          ],
          "scattergl": [
           {
            "marker": {
             "colorbar": {
              "outlinewidth": 0,
              "ticks": ""
             }
            },
            "type": "scattergl"
           }
          ],
          "scattermapbox": [
           {
            "marker": {
             "colorbar": {
              "outlinewidth": 0,
              "ticks": ""
             }
            },
            "type": "scattermapbox"
           }
          ],
          "scatterpolar": [
           {
            "marker": {
             "colorbar": {
              "outlinewidth": 0,
              "ticks": ""
             }
            },
            "type": "scatterpolar"
           }
          ],
          "scatterpolargl": [
           {
            "marker": {
             "colorbar": {
              "outlinewidth": 0,
              "ticks": ""
             }
            },
            "type": "scatterpolargl"
           }
          ],
          "scatterternary": [
           {
            "marker": {
             "colorbar": {
              "outlinewidth": 0,
              "ticks": ""
             }
            },
            "type": "scatterternary"
           }
          ],
          "surface": [
           {
            "colorbar": {
             "outlinewidth": 0,
             "ticks": ""
            },
            "colorscale": [
             [
              0,
              "#0d0887"
             ],
             [
              0.1111111111111111,
              "#46039f"
             ],
             [
              0.2222222222222222,
              "#7201a8"
             ],
             [
              0.3333333333333333,
              "#9c179e"
             ],
             [
              0.4444444444444444,
              "#bd3786"
             ],
             [
              0.5555555555555556,
              "#d8576b"
             ],
             [
              0.6666666666666666,
              "#ed7953"
             ],
             [
              0.7777777777777778,
              "#fb9f3a"
             ],
             [
              0.8888888888888888,
              "#fdca26"
             ],
             [
              1,
              "#f0f921"
             ]
            ],
            "type": "surface"
           }
          ],
          "table": [
           {
            "cells": {
             "fill": {
              "color": "#EBF0F8"
             },
             "line": {
              "color": "white"
             }
            },
            "header": {
             "fill": {
              "color": "#C8D4E3"
             },
             "line": {
              "color": "white"
             }
            },
            "type": "table"
           }
          ]
         },
         "layout": {
          "annotationdefaults": {
           "arrowcolor": "#2a3f5f",
           "arrowhead": 0,
           "arrowwidth": 1
          },
          "autotypenumbers": "strict",
          "coloraxis": {
           "colorbar": {
            "outlinewidth": 0,
            "ticks": ""
           }
          },
          "colorscale": {
           "diverging": [
            [
             0,
             "#8e0152"
            ],
            [
             0.1,
             "#c51b7d"
            ],
            [
             0.2,
             "#de77ae"
            ],
            [
             0.3,
             "#f1b6da"
            ],
            [
             0.4,
             "#fde0ef"
            ],
            [
             0.5,
             "#f7f7f7"
            ],
            [
             0.6,
             "#e6f5d0"
            ],
            [
             0.7,
             "#b8e186"
            ],
            [
             0.8,
             "#7fbc41"
            ],
            [
             0.9,
             "#4d9221"
            ],
            [
             1,
             "#276419"
            ]
           ],
           "sequential": [
            [
             0,
             "#0d0887"
            ],
            [
             0.1111111111111111,
             "#46039f"
            ],
            [
             0.2222222222222222,
             "#7201a8"
            ],
            [
             0.3333333333333333,
             "#9c179e"
            ],
            [
             0.4444444444444444,
             "#bd3786"
            ],
            [
             0.5555555555555556,
             "#d8576b"
            ],
            [
             0.6666666666666666,
             "#ed7953"
            ],
            [
             0.7777777777777778,
             "#fb9f3a"
            ],
            [
             0.8888888888888888,
             "#fdca26"
            ],
            [
             1,
             "#f0f921"
            ]
           ],
           "sequentialminus": [
            [
             0,
             "#0d0887"
            ],
            [
             0.1111111111111111,
             "#46039f"
            ],
            [
             0.2222222222222222,
             "#7201a8"
            ],
            [
             0.3333333333333333,
             "#9c179e"
            ],
            [
             0.4444444444444444,
             "#bd3786"
            ],
            [
             0.5555555555555556,
             "#d8576b"
            ],
            [
             0.6666666666666666,
             "#ed7953"
            ],
            [
             0.7777777777777778,
             "#fb9f3a"
            ],
            [
             0.8888888888888888,
             "#fdca26"
            ],
            [
             1,
             "#f0f921"
            ]
           ]
          },
          "colorway": [
           "#636efa",
           "#EF553B",
           "#00cc96",
           "#ab63fa",
           "#FFA15A",
           "#19d3f3",
           "#FF6692",
           "#B6E880",
           "#FF97FF",
           "#FECB52"
          ],
          "font": {
           "color": "#2a3f5f"
          },
          "geo": {
           "bgcolor": "white",
           "lakecolor": "white",
           "landcolor": "#E5ECF6",
           "showlakes": true,
           "showland": true,
           "subunitcolor": "white"
          },
          "hoverlabel": {
           "align": "left"
          },
          "hovermode": "closest",
          "mapbox": {
           "style": "light"
          },
          "paper_bgcolor": "white",
          "plot_bgcolor": "#E5ECF6",
          "polar": {
           "angularaxis": {
            "gridcolor": "white",
            "linecolor": "white",
            "ticks": ""
           },
           "bgcolor": "#E5ECF6",
           "radialaxis": {
            "gridcolor": "white",
            "linecolor": "white",
            "ticks": ""
           }
          },
          "scene": {
           "xaxis": {
            "backgroundcolor": "#E5ECF6",
            "gridcolor": "white",
            "gridwidth": 2,
            "linecolor": "white",
            "showbackground": true,
            "ticks": "",
            "zerolinecolor": "white"
           },
           "yaxis": {
            "backgroundcolor": "#E5ECF6",
            "gridcolor": "white",
            "gridwidth": 2,
            "linecolor": "white",
            "showbackground": true,
            "ticks": "",
            "zerolinecolor": "white"
           },
           "zaxis": {
            "backgroundcolor": "#E5ECF6",
            "gridcolor": "white",
            "gridwidth": 2,
            "linecolor": "white",
            "showbackground": true,
            "ticks": "",
            "zerolinecolor": "white"
           }
          },
          "shapedefaults": {
           "line": {
            "color": "#2a3f5f"
           }
          },
          "ternary": {
           "aaxis": {
            "gridcolor": "white",
            "linecolor": "white",
            "ticks": ""
           },
           "baxis": {
            "gridcolor": "white",
            "linecolor": "white",
            "ticks": ""
           },
           "bgcolor": "#E5ECF6",
           "caxis": {
            "gridcolor": "white",
            "linecolor": "white",
            "ticks": ""
           }
          },
          "title": {
           "x": 0.05
          },
          "xaxis": {
           "automargin": true,
           "gridcolor": "white",
           "linecolor": "white",
           "ticks": "",
           "title": {
            "standoff": 15
           },
           "zerolinecolor": "white",
           "zerolinewidth": 2
          },
          "yaxis": {
           "automargin": true,
           "gridcolor": "white",
           "linecolor": "white",
           "ticks": "",
           "title": {
            "standoff": 15
           },
           "zerolinecolor": "white",
           "zerolinewidth": 2
          }
         }
        }
       }
      },
      "text/html": [
       "<div>                            <div id=\"8d54cfe2-d777-4710-8af3-326b65ce6e6b\" class=\"plotly-graph-div\" style=\"height:525px; width:100%;\"></div>            <script type=\"text/javascript\">                require([\"plotly\"], function(Plotly) {                    window.PLOTLYENV=window.PLOTLYENV || {};                                    if (document.getElementById(\"8d54cfe2-d777-4710-8af3-326b65ce6e6b\")) {                    Plotly.newPlot(                        \"8d54cfe2-d777-4710-8af3-326b65ce6e6b\",                        [{\"colorbar\":{\"title\":{\"text\":\"Number of layoffs\"}},\"locationmode\":\"country names\",\"locations\":[\"Argentina\",\"Australia\",\"Austria\",\"Bahrain\",\"Belgium\",\"Brazil\",\"Bulgaria\",\"Canada\",\"Chile\",\"China\",\"Colombia\",\"Czech Republic\",\"Denmark\",\"Egypt\",\"Estonia\",\"Finland\",\"France\",\"Germany\",\"Ghana\",\"Greece\",\"Hong Kong\",\"Hungary\",\"India\",\"Indonesia\",\"Ireland\",\"Israel\",\"Kenya\",\"Lithuania\",\"Luxembourg\",\"Malaysia\",\"Mexico\",\"Myanmar\",\"Netherlands\",\"New Zealand\",\"Nigeria\",\"Norway\",\"Pakistan\",\"Peru\",\"Poland\",\"Portugal\",\"Romania\",\"Russia\",\"Senegal\",\"Seychelles\",\"Singapore\",\"South Africa\",\"Spain\",\"Sweden\",\"Switzerland\",\"Thailand\",\"Turkey\",\"United Arab Emirates\",\"United Kingdom\",\"United States\",\"Uruguay\",\"Vietnam\"],\"text\":[\"Argentina\",\"Australia\",\"Austria\",\"Bahrain\",\"Belgium\",\"Brazil\",\"Bulgaria\",\"Canada\",\"Chile\",\"China\",\"Colombia\",\"Czech Republic\",\"Denmark\",\"Egypt\",\"Estonia\",\"Finland\",\"France\",\"Germany\",\"Ghana\",\"Greece\",\"Hong Kong\",\"Hungary\",\"India\",\"Indonesia\",\"Ireland\",\"Israel\",\"Kenya\",\"Lithuania\",\"Luxembourg\",\"Malaysia\",\"Mexico\",\"Myanmar\",\"Netherlands\",\"New Zealand\",\"Nigeria\",\"Norway\",\"Pakistan\",\"Peru\",\"Poland\",\"Portugal\",\"Romania\",\"Russia\",\"Senegal\",\"Seychelles\",\"Singapore\",\"South Africa\",\"Spain\",\"Sweden\",\"Switzerland\",\"Thailand\",\"Turkey\",\"United Arab Emirates\",\"United Kingdom\",\"United States\",\"Uruguay\",\"Vietnam\"],\"z\":[5,35,3,1,1,57,1,84,2,12,3,1,4,2,4,1,1,53,1,1,5,1,112,23,4,43,6,1,3,3,4,1,5,2,10,4,3,1,1,2,2,1,1,3,28,1,1,17,2,1,1,6,58,1209,1,3],\"type\":\"choropleth\"}],                        {\"template\":{\"data\":{\"barpolar\":[{\"marker\":{\"line\":{\"color\":\"#E5ECF6\",\"width\":0.5},\"pattern\":{\"fillmode\":\"overlay\",\"size\":10,\"solidity\":0.2}},\"type\":\"barpolar\"}],\"bar\":[{\"error_x\":{\"color\":\"#2a3f5f\"},\"error_y\":{\"color\":\"#2a3f5f\"},\"marker\":{\"line\":{\"color\":\"#E5ECF6\",\"width\":0.5},\"pattern\":{\"fillmode\":\"overlay\",\"size\":10,\"solidity\":0.2}},\"type\":\"bar\"}],\"carpet\":[{\"aaxis\":{\"endlinecolor\":\"#2a3f5f\",\"gridcolor\":\"white\",\"linecolor\":\"white\",\"minorgridcolor\":\"white\",\"startlinecolor\":\"#2a3f5f\"},\"baxis\":{\"endlinecolor\":\"#2a3f5f\",\"gridcolor\":\"white\",\"linecolor\":\"white\",\"minorgridcolor\":\"white\",\"startlinecolor\":\"#2a3f5f\"},\"type\":\"carpet\"}],\"choropleth\":[{\"colorbar\":{\"outlinewidth\":0,\"ticks\":\"\"},\"type\":\"choropleth\"}],\"contourcarpet\":[{\"colorbar\":{\"outlinewidth\":0,\"ticks\":\"\"},\"type\":\"contourcarpet\"}],\"contour\":[{\"colorbar\":{\"outlinewidth\":0,\"ticks\":\"\"},\"colorscale\":[[0.0,\"#0d0887\"],[0.1111111111111111,\"#46039f\"],[0.2222222222222222,\"#7201a8\"],[0.3333333333333333,\"#9c179e\"],[0.4444444444444444,\"#bd3786\"],[0.5555555555555556,\"#d8576b\"],[0.6666666666666666,\"#ed7953\"],[0.7777777777777778,\"#fb9f3a\"],[0.8888888888888888,\"#fdca26\"],[1.0,\"#f0f921\"]],\"type\":\"contour\"}],\"heatmapgl\":[{\"colorbar\":{\"outlinewidth\":0,\"ticks\":\"\"},\"colorscale\":[[0.0,\"#0d0887\"],[0.1111111111111111,\"#46039f\"],[0.2222222222222222,\"#7201a8\"],[0.3333333333333333,\"#9c179e\"],[0.4444444444444444,\"#bd3786\"],[0.5555555555555556,\"#d8576b\"],[0.6666666666666666,\"#ed7953\"],[0.7777777777777778,\"#fb9f3a\"],[0.8888888888888888,\"#fdca26\"],[1.0,\"#f0f921\"]],\"type\":\"heatmapgl\"}],\"heatmap\":[{\"colorbar\":{\"outlinewidth\":0,\"ticks\":\"\"},\"colorscale\":[[0.0,\"#0d0887\"],[0.1111111111111111,\"#46039f\"],[0.2222222222222222,\"#7201a8\"],[0.3333333333333333,\"#9c179e\"],[0.4444444444444444,\"#bd3786\"],[0.5555555555555556,\"#d8576b\"],[0.6666666666666666,\"#ed7953\"],[0.7777777777777778,\"#fb9f3a\"],[0.8888888888888888,\"#fdca26\"],[1.0,\"#f0f921\"]],\"type\":\"heatmap\"}],\"histogram2dcontour\":[{\"colorbar\":{\"outlinewidth\":0,\"ticks\":\"\"},\"colorscale\":[[0.0,\"#0d0887\"],[0.1111111111111111,\"#46039f\"],[0.2222222222222222,\"#7201a8\"],[0.3333333333333333,\"#9c179e\"],[0.4444444444444444,\"#bd3786\"],[0.5555555555555556,\"#d8576b\"],[0.6666666666666666,\"#ed7953\"],[0.7777777777777778,\"#fb9f3a\"],[0.8888888888888888,\"#fdca26\"],[1.0,\"#f0f921\"]],\"type\":\"histogram2dcontour\"}],\"histogram2d\":[{\"colorbar\":{\"outlinewidth\":0,\"ticks\":\"\"},\"colorscale\":[[0.0,\"#0d0887\"],[0.1111111111111111,\"#46039f\"],[0.2222222222222222,\"#7201a8\"],[0.3333333333333333,\"#9c179e\"],[0.4444444444444444,\"#bd3786\"],[0.5555555555555556,\"#d8576b\"],[0.6666666666666666,\"#ed7953\"],[0.7777777777777778,\"#fb9f3a\"],[0.8888888888888888,\"#fdca26\"],[1.0,\"#f0f921\"]],\"type\":\"histogram2d\"}],\"histogram\":[{\"marker\":{\"pattern\":{\"fillmode\":\"overlay\",\"size\":10,\"solidity\":0.2}},\"type\":\"histogram\"}],\"mesh3d\":[{\"colorbar\":{\"outlinewidth\":0,\"ticks\":\"\"},\"type\":\"mesh3d\"}],\"parcoords\":[{\"line\":{\"colorbar\":{\"outlinewidth\":0,\"ticks\":\"\"}},\"type\":\"parcoords\"}],\"pie\":[{\"automargin\":true,\"type\":\"pie\"}],\"scatter3d\":[{\"line\":{\"colorbar\":{\"outlinewidth\":0,\"ticks\":\"\"}},\"marker\":{\"colorbar\":{\"outlinewidth\":0,\"ticks\":\"\"}},\"type\":\"scatter3d\"}],\"scattercarpet\":[{\"marker\":{\"colorbar\":{\"outlinewidth\":0,\"ticks\":\"\"}},\"type\":\"scattercarpet\"}],\"scattergeo\":[{\"marker\":{\"colorbar\":{\"outlinewidth\":0,\"ticks\":\"\"}},\"type\":\"scattergeo\"}],\"scattergl\":[{\"marker\":{\"colorbar\":{\"outlinewidth\":0,\"ticks\":\"\"}},\"type\":\"scattergl\"}],\"scattermapbox\":[{\"marker\":{\"colorbar\":{\"outlinewidth\":0,\"ticks\":\"\"}},\"type\":\"scattermapbox\"}],\"scatterpolargl\":[{\"marker\":{\"colorbar\":{\"outlinewidth\":0,\"ticks\":\"\"}},\"type\":\"scatterpolargl\"}],\"scatterpolar\":[{\"marker\":{\"colorbar\":{\"outlinewidth\":0,\"ticks\":\"\"}},\"type\":\"scatterpolar\"}],\"scatter\":[{\"fillpattern\":{\"fillmode\":\"overlay\",\"size\":10,\"solidity\":0.2},\"type\":\"scatter\"}],\"scatterternary\":[{\"marker\":{\"colorbar\":{\"outlinewidth\":0,\"ticks\":\"\"}},\"type\":\"scatterternary\"}],\"surface\":[{\"colorbar\":{\"outlinewidth\":0,\"ticks\":\"\"},\"colorscale\":[[0.0,\"#0d0887\"],[0.1111111111111111,\"#46039f\"],[0.2222222222222222,\"#7201a8\"],[0.3333333333333333,\"#9c179e\"],[0.4444444444444444,\"#bd3786\"],[0.5555555555555556,\"#d8576b\"],[0.6666666666666666,\"#ed7953\"],[0.7777777777777778,\"#fb9f3a\"],[0.8888888888888888,\"#fdca26\"],[1.0,\"#f0f921\"]],\"type\":\"surface\"}],\"table\":[{\"cells\":{\"fill\":{\"color\":\"#EBF0F8\"},\"line\":{\"color\":\"white\"}},\"header\":{\"fill\":{\"color\":\"#C8D4E3\"},\"line\":{\"color\":\"white\"}},\"type\":\"table\"}]},\"layout\":{\"annotationdefaults\":{\"arrowcolor\":\"#2a3f5f\",\"arrowhead\":0,\"arrowwidth\":1},\"autotypenumbers\":\"strict\",\"coloraxis\":{\"colorbar\":{\"outlinewidth\":0,\"ticks\":\"\"}},\"colorscale\":{\"diverging\":[[0,\"#8e0152\"],[0.1,\"#c51b7d\"],[0.2,\"#de77ae\"],[0.3,\"#f1b6da\"],[0.4,\"#fde0ef\"],[0.5,\"#f7f7f7\"],[0.6,\"#e6f5d0\"],[0.7,\"#b8e186\"],[0.8,\"#7fbc41\"],[0.9,\"#4d9221\"],[1,\"#276419\"]],\"sequential\":[[0.0,\"#0d0887\"],[0.1111111111111111,\"#46039f\"],[0.2222222222222222,\"#7201a8\"],[0.3333333333333333,\"#9c179e\"],[0.4444444444444444,\"#bd3786\"],[0.5555555555555556,\"#d8576b\"],[0.6666666666666666,\"#ed7953\"],[0.7777777777777778,\"#fb9f3a\"],[0.8888888888888888,\"#fdca26\"],[1.0,\"#f0f921\"]],\"sequentialminus\":[[0.0,\"#0d0887\"],[0.1111111111111111,\"#46039f\"],[0.2222222222222222,\"#7201a8\"],[0.3333333333333333,\"#9c179e\"],[0.4444444444444444,\"#bd3786\"],[0.5555555555555556,\"#d8576b\"],[0.6666666666666666,\"#ed7953\"],[0.7777777777777778,\"#fb9f3a\"],[0.8888888888888888,\"#fdca26\"],[1.0,\"#f0f921\"]]},\"colorway\":[\"#636efa\",\"#EF553B\",\"#00cc96\",\"#ab63fa\",\"#FFA15A\",\"#19d3f3\",\"#FF6692\",\"#B6E880\",\"#FF97FF\",\"#FECB52\"],\"font\":{\"color\":\"#2a3f5f\"},\"geo\":{\"bgcolor\":\"white\",\"lakecolor\":\"white\",\"landcolor\":\"#E5ECF6\",\"showlakes\":true,\"showland\":true,\"subunitcolor\":\"white\"},\"hoverlabel\":{\"align\":\"left\"},\"hovermode\":\"closest\",\"mapbox\":{\"style\":\"light\"},\"paper_bgcolor\":\"white\",\"plot_bgcolor\":\"#E5ECF6\",\"polar\":{\"angularaxis\":{\"gridcolor\":\"white\",\"linecolor\":\"white\",\"ticks\":\"\"},\"bgcolor\":\"#E5ECF6\",\"radialaxis\":{\"gridcolor\":\"white\",\"linecolor\":\"white\",\"ticks\":\"\"}},\"scene\":{\"xaxis\":{\"backgroundcolor\":\"#E5ECF6\",\"gridcolor\":\"white\",\"gridwidth\":2,\"linecolor\":\"white\",\"showbackground\":true,\"ticks\":\"\",\"zerolinecolor\":\"white\"},\"yaxis\":{\"backgroundcolor\":\"#E5ECF6\",\"gridcolor\":\"white\",\"gridwidth\":2,\"linecolor\":\"white\",\"showbackground\":true,\"ticks\":\"\",\"zerolinecolor\":\"white\"},\"zaxis\":{\"backgroundcolor\":\"#E5ECF6\",\"gridcolor\":\"white\",\"gridwidth\":2,\"linecolor\":\"white\",\"showbackground\":true,\"ticks\":\"\",\"zerolinecolor\":\"white\"}},\"shapedefaults\":{\"line\":{\"color\":\"#2a3f5f\"}},\"ternary\":{\"aaxis\":{\"gridcolor\":\"white\",\"linecolor\":\"white\",\"ticks\":\"\"},\"baxis\":{\"gridcolor\":\"white\",\"linecolor\":\"white\",\"ticks\":\"\"},\"bgcolor\":\"#E5ECF6\",\"caxis\":{\"gridcolor\":\"white\",\"linecolor\":\"white\",\"ticks\":\"\"}},\"title\":{\"x\":0.05},\"xaxis\":{\"automargin\":true,\"gridcolor\":\"white\",\"linecolor\":\"white\",\"ticks\":\"\",\"title\":{\"standoff\":15},\"zerolinecolor\":\"white\",\"zerolinewidth\":2},\"yaxis\":{\"automargin\":true,\"gridcolor\":\"white\",\"linecolor\":\"white\",\"ticks\":\"\",\"title\":{\"standoff\":15},\"zerolinecolor\":\"white\",\"zerolinewidth\":2}}}},                        {\"responsive\": true}                    ).then(function(){\n",
       "                            \n",
       "var gd = document.getElementById('8d54cfe2-d777-4710-8af3-326b65ce6e6b');\n",
       "var x = new MutationObserver(function (mutations, observer) {{\n",
       "        var display = window.getComputedStyle(gd).display;\n",
       "        if (!display || display === 'none') {{\n",
       "            console.log([gd, 'removed!']);\n",
       "            Plotly.purge(gd);\n",
       "            observer.disconnect();\n",
       "        }}\n",
       "}});\n",
       "\n",
       "// Listen for the removal of the full notebook cells\n",
       "var notebookContainer = gd.closest('#notebook-container');\n",
       "if (notebookContainer) {{\n",
       "    x.observe(notebookContainer, {childList: true});\n",
       "}}\n",
       "\n",
       "// Listen for the clearing of the current output cell\n",
       "var outputEl = gd.closest('.output');\n",
       "if (outputEl) {{\n",
       "    x.observe(outputEl, {childList: true});\n",
       "}}\n",
       "\n",
       "                        })                };                });            </script>        </div>"
      ]
     },
     "metadata": {},
     "output_type": "display_data"
    }
   ],
   "source": [
    "import chart_studio.plotly as py\n",
    "import plotly.graph_objs as go\n",
    "from plotly.offline import download_plotlyjs,init_notebook_mode,plot,iplot\n",
    "init_notebook_mode(connected=True)\n",
    "data = dict(type='choropleth',\n",
    "            locations=df2.index,locationmode='country names',\n",
    "            text=df2.index,\n",
    "            z=df2['Company'],\n",
    "            colorbar={'title':'Number of layoffs'})\n",
    "choromap = go.Figure(data=[data])\n",
    "iplot(choromap)"
   ]
  },
  {
   "cell_type": "code",
   "execution_count": null,
   "metadata": {},
   "outputs": [
    {
     "data": {
      "text/html": [
       "<style type=\"text/css\">\n",
       "</style>\n",
       "<table id=\"T_066b9\">\n",
       "  <caption>TOP 10 COUNTRIES WITH MOST LAYOFFS</caption>\n",
       "  <thead>\n",
       "    <tr>\n",
       "      <th class=\"blank level0\" >&nbsp;</th>\n",
       "      <th id=\"T_066b9_level0_col0\" class=\"col_heading level0 col0\" ></th>\n",
       "    </tr>\n",
       "    <tr>\n",
       "      <th class=\"index_name level0\" >Country</th>\n",
       "      <th class=\"blank col0\" >&nbsp;</th>\n",
       "    </tr>\n",
       "  </thead>\n",
       "  <tbody>\n",
       "    <tr>\n",
       "      <th id=\"T_066b9_level0_row0\" class=\"row_heading level0 row0\" >United States</th>\n",
       "      <td id=\"T_066b9_row0_col0\" class=\"data row0 col0\" >1209</td>\n",
       "    </tr>\n",
       "    <tr>\n",
       "      <th id=\"T_066b9_level0_row1\" class=\"row_heading level0 row1\" >India</th>\n",
       "      <td id=\"T_066b9_row1_col0\" class=\"data row1 col0\" >112</td>\n",
       "    </tr>\n",
       "    <tr>\n",
       "      <th id=\"T_066b9_level0_row2\" class=\"row_heading level0 row2\" >Canada</th>\n",
       "      <td id=\"T_066b9_row2_col0\" class=\"data row2 col0\" >84</td>\n",
       "    </tr>\n",
       "    <tr>\n",
       "      <th id=\"T_066b9_level0_row3\" class=\"row_heading level0 row3\" >United Kingdom</th>\n",
       "      <td id=\"T_066b9_row3_col0\" class=\"data row3 col0\" >58</td>\n",
       "    </tr>\n",
       "    <tr>\n",
       "      <th id=\"T_066b9_level0_row4\" class=\"row_heading level0 row4\" >Brazil</th>\n",
       "      <td id=\"T_066b9_row4_col0\" class=\"data row4 col0\" >57</td>\n",
       "    </tr>\n",
       "    <tr>\n",
       "      <th id=\"T_066b9_level0_row5\" class=\"row_heading level0 row5\" >Germany</th>\n",
       "      <td id=\"T_066b9_row5_col0\" class=\"data row5 col0\" >53</td>\n",
       "    </tr>\n",
       "    <tr>\n",
       "      <th id=\"T_066b9_level0_row6\" class=\"row_heading level0 row6\" >Israel</th>\n",
       "      <td id=\"T_066b9_row6_col0\" class=\"data row6 col0\" >43</td>\n",
       "    </tr>\n",
       "    <tr>\n",
       "      <th id=\"T_066b9_level0_row7\" class=\"row_heading level0 row7\" >Australia</th>\n",
       "      <td id=\"T_066b9_row7_col0\" class=\"data row7 col0\" >35</td>\n",
       "    </tr>\n",
       "    <tr>\n",
       "      <th id=\"T_066b9_level0_row8\" class=\"row_heading level0 row8\" >Singapore</th>\n",
       "      <td id=\"T_066b9_row8_col0\" class=\"data row8 col0\" >28</td>\n",
       "    </tr>\n",
       "    <tr>\n",
       "      <th id=\"T_066b9_level0_row9\" class=\"row_heading level0 row9\" >Indonesia</th>\n",
       "      <td id=\"T_066b9_row9_col0\" class=\"data row9 col0\" >23</td>\n",
       "    </tr>\n",
       "  </tbody>\n",
       "</table>\n"
      ],
      "text/plain": [
       "<pandas.io.formats.style.Styler at 0x7f97bbca2190>"
      ]
     },
     "execution_count": 146,
     "metadata": {},
     "output_type": "execute_result"
    }
   ],
   "source": [
    "pd.DataFrame(df.value_counts('Country')[:10],columns=[\"\"]).style.set_caption(\"TOP 10 COUNTRIES WITH MOST LAYOFFS\")"
   ]
  },
  {
   "cell_type": "code",
   "execution_count": null,
   "metadata": {},
   "outputs": [
    {
     "data": {
      "text/plain": [
       "Company\n",
       "OYO           5\n",
       "Uber          5\n",
       "Loft          5\n",
       "Vedantu       4\n",
       "Latch         4\n",
       "Shopify       4\n",
       "Gopuff        4\n",
       "Better.com    4\n",
       "DataRobot     4\n",
       "Patreon       4\n",
       "Netflix       4\n",
       "Truepill      4\n",
       "WeWork        4\n",
       "Swiggy        4\n",
       "dtype: int64"
      ]
     },
     "execution_count": 154,
     "metadata": {},
     "output_type": "execute_result"
    }
   ],
   "source": [
    "df.value_counts('Company')[:14]"
   ]
  },
  {
   "cell_type": "code",
   "execution_count": 30,
   "metadata": {},
   "outputs": [
    {
     "data": {
      "text/plain": [
       "<AxesSubplot: xlabel='count', ylabel='Stage'>"
      ]
     },
     "execution_count": 30,
     "metadata": {},
     "output_type": "execute_result"
    },
    {
     "data": {
      "image/png": "[encoded data removed]",
      "text/plain": [
       "<Figure size 432x288 with 1 Axes>"
      ]
     },
     "metadata": {
      "needs_background": "light"
     },
     "output_type": "display_data"
    }
   ],
   "source": [
    "sns.countplot(y=df['Stage'],order=df.value_counts(\"Stage\").sort_values(ascending=False).index)"
   ]
  },
  {
   "cell_type": "code",
   "execution_count": 16,
   "metadata": {},
   "outputs": [
    {
     "data": {
      "text/html": [
       "<div>\n",
       "<style scoped>\n",
       "    .dataframe tbody tr th:only-of-type {\n",
       "        vertical-align: middle;\n",
       "    }\n",
       "\n",
       "    .dataframe tbody tr th {\n",
       "        vertical-align: top;\n",
       "    }\n",
       "\n",
       "    .dataframe thead th {\n",
       "        text-align: right;\n",
       "    }\n",
       "</style>\n",
       "<table border=\"1\" class=\"dataframe\">\n",
       "  <thead>\n",
       "    <tr style=\"text-align: right;\">\n",
       "      <th></th>\n",
       "      <th>Company</th>\n",
       "      <th>Location</th>\n",
       "      <th>Industry</th>\n",
       "      <th>Laid_Off_Count</th>\n",
       "      <th>Percentage</th>\n",
       "      <th>Date</th>\n",
       "      <th>Source</th>\n",
       "      <th>Funds_Raised</th>\n",
       "      <th>Stage</th>\n",
       "      <th>Date_Added</th>\n",
       "      <th>Country</th>\n",
       "      <th>List_of_Employees_Laid_Off</th>\n",
       "    </tr>\n",
       "  </thead>\n",
       "  <tbody>\n",
       "    <tr>\n",
       "      <th>7</th>\n",
       "      <td>Revelate</td>\n",
       "      <td>Montreal</td>\n",
       "      <td>Data</td>\n",
       "      <td>24.0</td>\n",
       "      <td>0.30</td>\n",
       "      <td>2022-12-16</td>\n",
       "      <td>https://betakit.com/layoffs-persist-at-canadia...</td>\n",
       "      <td>26.0</td>\n",
       "      <td>Series A</td>\n",
       "      <td>2022-12-19 17:17:13</td>\n",
       "      <td>Canada</td>\n",
       "      <td>Unknown</td>\n",
       "    </tr>\n",
       "    <tr>\n",
       "      <th>122</th>\n",
       "      <td>Elastic</td>\n",
       "      <td>SF Bay Area</td>\n",
       "      <td>Data</td>\n",
       "      <td>NaN</td>\n",
       "      <td>0.13</td>\n",
       "      <td>2022-11-30</td>\n",
       "      <td>https://www.elastic.co/blog/ceo-ash-kulkarni-e...</td>\n",
       "      <td>162.0</td>\n",
       "      <td>IPO</td>\n",
       "      <td>2022-12-01 06:23:46</td>\n",
       "      <td>United States</td>\n",
       "      <td>Unknown</td>\n",
       "    </tr>\n",
       "    <tr>\n",
       "      <th>204</th>\n",
       "      <td>UiPath</td>\n",
       "      <td>New York City</td>\n",
       "      <td>Data</td>\n",
       "      <td>241.0</td>\n",
       "      <td>0.06</td>\n",
       "      <td>2022-11-15</td>\n",
       "      <td>https://www.marketwatch.com/story/uipath-stock...</td>\n",
       "      <td>2000.0</td>\n",
       "      <td>IPO</td>\n",
       "      <td>2022-11-17 00:00:16</td>\n",
       "      <td>United States</td>\n",
       "      <td>Unknown</td>\n",
       "    </tr>\n",
       "    <tr>\n",
       "      <th>266</th>\n",
       "      <td>CloudFactory</td>\n",
       "      <td>Nairobi</td>\n",
       "      <td>Data</td>\n",
       "      <td>NaN</td>\n",
       "      <td>0.12</td>\n",
       "      <td>2022-11-09</td>\n",
       "      <td>https://time.com/6234014/tech-layoffs-twitter-...</td>\n",
       "      <td>78.0</td>\n",
       "      <td>Private Equity</td>\n",
       "      <td>2022-11-20 00:10:45</td>\n",
       "      <td>Kenya</td>\n",
       "      <td>Unknown</td>\n",
       "    </tr>\n",
       "    <tr>\n",
       "      <th>281</th>\n",
       "      <td>Domino Data Lab</td>\n",
       "      <td>SF Bay Area</td>\n",
       "      <td>Data</td>\n",
       "      <td>NaN</td>\n",
       "      <td>0.25</td>\n",
       "      <td>2022-11-07</td>\n",
       "      <td>https://docs.google.com/spreadsheets/d/1YKzaAk...</td>\n",
       "      <td>223.0</td>\n",
       "      <td>Series F</td>\n",
       "      <td>2022-11-08 21:56:41</td>\n",
       "      <td>United States</td>\n",
       "      <td>https://docs.google.com/spreadsheets/d/1YKzaAk...</td>\n",
       "    </tr>\n",
       "    <tr>\n",
       "      <th>...</th>\n",
       "      <td>...</td>\n",
       "      <td>...</td>\n",
       "      <td>...</td>\n",
       "      <td>...</td>\n",
       "      <td>...</td>\n",
       "      <td>...</td>\n",
       "      <td>...</td>\n",
       "      <td>...</td>\n",
       "      <td>...</td>\n",
       "      <td>...</td>\n",
       "      <td>...</td>\n",
       "      <td>...</td>\n",
       "    </tr>\n",
       "    <tr>\n",
       "      <th>1643</th>\n",
       "      <td>Mapbox</td>\n",
       "      <td>Washington D.C.</td>\n",
       "      <td>Data</td>\n",
       "      <td>NaN</td>\n",
       "      <td>NaN</td>\n",
       "      <td>2020-04-06</td>\n",
       "      <td>LinkedIn</td>\n",
       "      <td>227.0</td>\n",
       "      <td>Series C</td>\n",
       "      <td>2020-05-10 06:05:53</td>\n",
       "      <td>United States</td>\n",
       "      <td>Unknown</td>\n",
       "    </tr>\n",
       "    <tr>\n",
       "      <th>1665</th>\n",
       "      <td>Alegion</td>\n",
       "      <td>Austin</td>\n",
       "      <td>Data</td>\n",
       "      <td>NaN</td>\n",
       "      <td>NaN</td>\n",
       "      <td>2020-04-03</td>\n",
       "      <td>LinkedIn</td>\n",
       "      <td>16.0</td>\n",
       "      <td>Series A</td>\n",
       "      <td>2020-04-09 05:39:26</td>\n",
       "      <td>United States</td>\n",
       "      <td>Unknown</td>\n",
       "    </tr>\n",
       "    <tr>\n",
       "      <th>1758</th>\n",
       "      <td>DataRobot</td>\n",
       "      <td>Boston</td>\n",
       "      <td>Data</td>\n",
       "      <td>200.0</td>\n",
       "      <td>NaN</td>\n",
       "      <td>2020-03-27</td>\n",
       "      <td>https://www.americaninno.com/boston/inno-news-...</td>\n",
       "      <td>430.0</td>\n",
       "      <td>Series E</td>\n",
       "      <td>2020-03-28 20:52:49</td>\n",
       "      <td>United States</td>\n",
       "      <td>Unknown</td>\n",
       "    </tr>\n",
       "    <tr>\n",
       "      <th>1795</th>\n",
       "      <td>Element Analytics</td>\n",
       "      <td>SF Bay Area</td>\n",
       "      <td>Data</td>\n",
       "      <td>10.0</td>\n",
       "      <td>NaN</td>\n",
       "      <td>2020-03-25</td>\n",
       "      <td>Company executive</td>\n",
       "      <td>22.0</td>\n",
       "      <td>Series A</td>\n",
       "      <td>2020-04-18 18:20:15</td>\n",
       "      <td>United States</td>\n",
       "      <td>Unknown</td>\n",
       "    </tr>\n",
       "    <tr>\n",
       "      <th>1813</th>\n",
       "      <td>GrayMeta</td>\n",
       "      <td>Los Angeles</td>\n",
       "      <td>Data</td>\n",
       "      <td>20.0</td>\n",
       "      <td>0.40</td>\n",
       "      <td>2020-03-23</td>\n",
       "      <td>LinkedIn</td>\n",
       "      <td>7.0</td>\n",
       "      <td>Unknown</td>\n",
       "      <td>2020-04-01 05:31:34</td>\n",
       "      <td>United States</td>\n",
       "      <td>Unknown</td>\n",
       "    </tr>\n",
       "  </tbody>\n",
       "</table>\n",
       "<p>61 rows × 12 columns</p>\n",
       "</div>"
      ],
      "text/plain": [
       "                Company         Location Industry  Laid_Off_Count  Percentage  \\\n",
       "7              Revelate         Montreal     Data            24.0        0.30   \n",
       "122             Elastic      SF Bay Area     Data             NaN        0.13   \n",
       "204              UiPath    New York City     Data           241.0        0.06   \n",
       "266        CloudFactory          Nairobi     Data             NaN        0.12   \n",
       "281     Domino Data Lab      SF Bay Area     Data             NaN        0.25   \n",
       "...                 ...              ...      ...             ...         ...   \n",
       "1643             Mapbox  Washington D.C.     Data             NaN         NaN   \n",
       "1665            Alegion           Austin     Data             NaN         NaN   \n",
       "1758          DataRobot           Boston     Data           200.0         NaN   \n",
       "1795  Element Analytics      SF Bay Area     Data            10.0         NaN   \n",
       "1813           GrayMeta      Los Angeles     Data            20.0        0.40   \n",
       "\n",
       "           Date                                             Source  \\\n",
       "7    2022-12-16  https://betakit.com/layoffs-persist-at-canadia...   \n",
       "122  2022-11-30  https://www.elastic.co/blog/ceo-ash-kulkarni-e...   \n",
       "204  2022-11-15  https://www.marketwatch.com/story/uipath-stock...   \n",
       "266  2022-11-09  https://time.com/6234014/tech-layoffs-twitter-...   \n",
       "281  2022-11-07  https://docs.google.com/spreadsheets/d/1YKzaAk...   \n",
       "...         ...                                                ...   \n",
       "1643 2020-04-06                                           LinkedIn   \n",
       "1665 2020-04-03                                           LinkedIn   \n",
       "1758 2020-03-27  https://www.americaninno.com/boston/inno-news-...   \n",
       "1795 2020-03-25                                  Company executive   \n",
       "1813 2020-03-23                                           LinkedIn   \n",
       "\n",
       "      Funds_Raised           Stage          Date_Added        Country  \\\n",
       "7             26.0        Series A 2022-12-19 17:17:13         Canada   \n",
       "122          162.0             IPO 2022-12-01 06:23:46  United States   \n",
       "204         2000.0             IPO 2022-11-17 00:00:16  United States   \n",
       "266           78.0  Private Equity 2022-11-20 00:10:45          Kenya   \n",
       "281          223.0        Series F 2022-11-08 21:56:41  United States   \n",
       "...            ...             ...                 ...            ...   \n",
       "1643         227.0        Series C 2020-05-10 06:05:53  United States   \n",
       "1665          16.0        Series A 2020-04-09 05:39:26  United States   \n",
       "1758         430.0        Series E 2020-03-28 20:52:49  United States   \n",
       "1795          22.0        Series A 2020-04-18 18:20:15  United States   \n",
       "1813           7.0         Unknown 2020-04-01 05:31:34  United States   \n",
       "\n",
       "                             List_of_Employees_Laid_Off  \n",
       "7                                               Unknown  \n",
       "122                                             Unknown  \n",
       "204                                             Unknown  \n",
       "266                                             Unknown  \n",
       "281   https://docs.google.com/spreadsheets/d/1YKzaAk...  \n",
       "...                                                 ...  \n",
       "1643                                            Unknown  \n",
       "1665                                            Unknown  \n",
       "1758                                            Unknown  \n",
       "1795                                            Unknown  \n",
       "1813                                            Unknown  \n",
       "\n",
       "[61 rows x 12 columns]"
      ]
     },
     "execution_count": 16,
     "metadata": {},
     "output_type": "execute_result"
    }
   ],
   "source": [
    "df[(df['Industry'] == 'Data')]"
   ]
  },
  {
   "cell_type": "code",
   "execution_count": 18,
   "metadata": {},
   "outputs": [
    {
     "data": {
      "text/html": [
       "<div>\n",
       "<style scoped>\n",
       "    .dataframe tbody tr th:only-of-type {\n",
       "        vertical-align: middle;\n",
       "    }\n",
       "\n",
       "    .dataframe tbody tr th {\n",
       "        vertical-align: top;\n",
       "    }\n",
       "\n",
       "    .dataframe thead th {\n",
       "        text-align: right;\n",
       "    }\n",
       "</style>\n",
       "<table border=\"1\" class=\"dataframe\">\n",
       "  <thead>\n",
       "    <tr style=\"text-align: right;\">\n",
       "      <th></th>\n",
       "      <th>Company</th>\n",
       "      <th>Location</th>\n",
       "      <th>Industry</th>\n",
       "      <th>Laid_Off_Count</th>\n",
       "      <th>Percentage</th>\n",
       "      <th>Date</th>\n",
       "      <th>Source</th>\n",
       "      <th>Funds_Raised</th>\n",
       "      <th>Stage</th>\n",
       "      <th>Date_Added</th>\n",
       "      <th>Country</th>\n",
       "      <th>List_of_Employees_Laid_Off</th>\n",
       "    </tr>\n",
       "  </thead>\n",
       "  <tbody>\n",
       "    <tr>\n",
       "      <th>2</th>\n",
       "      <td>Briza</td>\n",
       "      <td>Toronto</td>\n",
       "      <td>Finance</td>\n",
       "      <td>26.0</td>\n",
       "      <td>0.40</td>\n",
       "      <td>2022-12-20</td>\n",
       "      <td>https://betakit.com/ceo-of-briza-steps-down-as...</td>\n",
       "      <td>10.0</td>\n",
       "      <td>Series A</td>\n",
       "      <td>2022-12-20 18:43:01</td>\n",
       "      <td>Canada</td>\n",
       "      <td>https://docs.google.com/spreadsheets/d/18ZMnL9...</td>\n",
       "    </tr>\n",
       "    <tr>\n",
       "      <th>6</th>\n",
       "      <td>Tomorrow</td>\n",
       "      <td>Hamburg</td>\n",
       "      <td>Finance</td>\n",
       "      <td>30.0</td>\n",
       "      <td>0.25</td>\n",
       "      <td>2022-12-16</td>\n",
       "      <td>https://www.businessinsider.de/gruenderszene/f...</td>\n",
       "      <td>29.0</td>\n",
       "      <td>Unknown</td>\n",
       "      <td>2022-12-18 04:15:07</td>\n",
       "      <td>Germany</td>\n",
       "      <td>https://docs.google.com/spreadsheets/d/187Gljr...</td>\n",
       "    </tr>\n",
       "    <tr>\n",
       "      <th>11</th>\n",
       "      <td>Modern Treasury</td>\n",
       "      <td>SF Bay Area</td>\n",
       "      <td>Finance</td>\n",
       "      <td>NaN</td>\n",
       "      <td>0.18</td>\n",
       "      <td>2022-12-16</td>\n",
       "      <td>Internal memo</td>\n",
       "      <td>183.0</td>\n",
       "      <td>Series C</td>\n",
       "      <td>2022-12-21 03:28:48</td>\n",
       "      <td>United States</td>\n",
       "      <td>Unknown</td>\n",
       "    </tr>\n",
       "    <tr>\n",
       "      <th>33</th>\n",
       "      <td>Autobooks</td>\n",
       "      <td>Detroit</td>\n",
       "      <td>Finance</td>\n",
       "      <td>NaN</td>\n",
       "      <td>NaN</td>\n",
       "      <td>2022-12-10</td>\n",
       "      <td>https://www.crainsdetroit.com/technology/finte...</td>\n",
       "      <td>97.0</td>\n",
       "      <td>Series C</td>\n",
       "      <td>2022-12-11 03:36:27</td>\n",
       "      <td>United States</td>\n",
       "      <td>Unknown</td>\n",
       "    </tr>\n",
       "    <tr>\n",
       "      <th>39</th>\n",
       "      <td>Primer</td>\n",
       "      <td>London</td>\n",
       "      <td>Finance</td>\n",
       "      <td>85.0</td>\n",
       "      <td>0.33</td>\n",
       "      <td>2022-12-09</td>\n",
       "      <td>https://techcrunch.com/2022/12/09/primer-the-u...</td>\n",
       "      <td>73.0</td>\n",
       "      <td>Series B</td>\n",
       "      <td>2022-12-09 16:37:23</td>\n",
       "      <td>United Kingdom</td>\n",
       "      <td>Unknown</td>\n",
       "    </tr>\n",
       "    <tr>\n",
       "      <th>...</th>\n",
       "      <td>...</td>\n",
       "      <td>...</td>\n",
       "      <td>...</td>\n",
       "      <td>...</td>\n",
       "      <td>...</td>\n",
       "      <td>...</td>\n",
       "      <td>...</td>\n",
       "      <td>...</td>\n",
       "      <td>...</td>\n",
       "      <td>...</td>\n",
       "      <td>...</td>\n",
       "      <td>...</td>\n",
       "    </tr>\n",
       "    <tr>\n",
       "      <th>1739</th>\n",
       "      <td>PeerStreet</td>\n",
       "      <td>Los Angeles</td>\n",
       "      <td>Finance</td>\n",
       "      <td>51.0</td>\n",
       "      <td>0.30</td>\n",
       "      <td>2020-03-30</td>\n",
       "      <td>https://layoffs.fyi/2020/03/31/breaking-la-bas...</td>\n",
       "      <td>110.0</td>\n",
       "      <td>Series C</td>\n",
       "      <td>2020-03-31 21:41:47</td>\n",
       "      <td>United States</td>\n",
       "      <td>Unknown</td>\n",
       "    </tr>\n",
       "    <tr>\n",
       "      <th>1764</th>\n",
       "      <td>Mogo</td>\n",
       "      <td>Vancouver</td>\n",
       "      <td>Finance</td>\n",
       "      <td>78.0</td>\n",
       "      <td>0.30</td>\n",
       "      <td>2020-03-27</td>\n",
       "      <td>https://betakit.com/mogo-lays-off-30-percent-o...</td>\n",
       "      <td>201.0</td>\n",
       "      <td>IPO</td>\n",
       "      <td>2020-04-03 14:40:07</td>\n",
       "      <td>Canada</td>\n",
       "      <td>Unknown</td>\n",
       "    </tr>\n",
       "    <tr>\n",
       "      <th>1767</th>\n",
       "      <td>Bench</td>\n",
       "      <td>Vancouver</td>\n",
       "      <td>Finance</td>\n",
       "      <td>47.0</td>\n",
       "      <td>0.10</td>\n",
       "      <td>2020-03-27</td>\n",
       "      <td>https://betakit.com/bench-re-hires-workers-as-...</td>\n",
       "      <td>49.0</td>\n",
       "      <td>Series B</td>\n",
       "      <td>2020-06-23 01:22:09</td>\n",
       "      <td>Canada</td>\n",
       "      <td>Unknown</td>\n",
       "    </tr>\n",
       "    <tr>\n",
       "      <th>1774</th>\n",
       "      <td>Bcredi</td>\n",
       "      <td>Curitiba</td>\n",
       "      <td>Finance</td>\n",
       "      <td>NaN</td>\n",
       "      <td>NaN</td>\n",
       "      <td>2020-03-27</td>\n",
       "      <td>https://layoffs.fyi/list/bcredi/</td>\n",
       "      <td>NaN</td>\n",
       "      <td>Series A</td>\n",
       "      <td>2020-04-25 15:28:59</td>\n",
       "      <td>Brazil</td>\n",
       "      <td>Unknown</td>\n",
       "    </tr>\n",
       "    <tr>\n",
       "      <th>1815</th>\n",
       "      <td>Ladder Life</td>\n",
       "      <td>SF Bay Area</td>\n",
       "      <td>Finance</td>\n",
       "      <td>13.0</td>\n",
       "      <td>0.25</td>\n",
       "      <td>2020-03-23</td>\n",
       "      <td>LinkedIn</td>\n",
       "      <td>94.0</td>\n",
       "      <td>Series C</td>\n",
       "      <td>2020-04-07 13:49:37</td>\n",
       "      <td>United States</td>\n",
       "      <td>Unknown</td>\n",
       "    </tr>\n",
       "  </tbody>\n",
       "</table>\n",
       "<p>231 rows × 12 columns</p>\n",
       "</div>"
      ],
      "text/plain": [
       "              Company     Location Industry  Laid_Off_Count  Percentage  \\\n",
       "2               Briza      Toronto  Finance            26.0        0.40   \n",
       "6            Tomorrow      Hamburg  Finance            30.0        0.25   \n",
       "11    Modern Treasury  SF Bay Area  Finance             NaN        0.18   \n",
       "33          Autobooks      Detroit  Finance             NaN         NaN   \n",
       "39             Primer       London  Finance            85.0        0.33   \n",
       "...               ...          ...      ...             ...         ...   \n",
       "1739       PeerStreet  Los Angeles  Finance            51.0        0.30   \n",
       "1764             Mogo    Vancouver  Finance            78.0        0.30   \n",
       "1767            Bench    Vancouver  Finance            47.0        0.10   \n",
       "1774           Bcredi     Curitiba  Finance             NaN         NaN   \n",
       "1815      Ladder Life  SF Bay Area  Finance            13.0        0.25   \n",
       "\n",
       "           Date                                             Source  \\\n",
       "2    2022-12-20  https://betakit.com/ceo-of-briza-steps-down-as...   \n",
       "6    2022-12-16  https://www.businessinsider.de/gruenderszene/f...   \n",
       "11   2022-12-16                                      Internal memo   \n",
       "33   2022-12-10  https://www.crainsdetroit.com/technology/finte...   \n",
       "39   2022-12-09  https://techcrunch.com/2022/12/09/primer-the-u...   \n",
       "...         ...                                                ...   \n",
       "1739 2020-03-30  https://layoffs.fyi/2020/03/31/breaking-la-bas...   \n",
       "1764 2020-03-27  https://betakit.com/mogo-lays-off-30-percent-o...   \n",
       "1767 2020-03-27  https://betakit.com/bench-re-hires-workers-as-...   \n",
       "1774 2020-03-27                   https://layoffs.fyi/list/bcredi/   \n",
       "1815 2020-03-23                                           LinkedIn   \n",
       "\n",
       "      Funds_Raised     Stage          Date_Added         Country  \\\n",
       "2             10.0  Series A 2022-12-20 18:43:01          Canada   \n",
       "6             29.0   Unknown 2022-12-18 04:15:07         Germany   \n",
       "11           183.0  Series C 2022-12-21 03:28:48   United States   \n",
       "33            97.0  Series C 2022-12-11 03:36:27   United States   \n",
       "39            73.0  Series B 2022-12-09 16:37:23  United Kingdom   \n",
       "...            ...       ...                 ...             ...   \n",
       "1739         110.0  Series C 2020-03-31 21:41:47   United States   \n",
       "1764         201.0       IPO 2020-04-03 14:40:07          Canada   \n",
       "1767          49.0  Series B 2020-06-23 01:22:09          Canada   \n",
       "1774           NaN  Series A 2020-04-25 15:28:59          Brazil   \n",
       "1815          94.0  Series C 2020-04-07 13:49:37   United States   \n",
       "\n",
       "                             List_of_Employees_Laid_Off  \n",
       "2     https://docs.google.com/spreadsheets/d/18ZMnL9...  \n",
       "6     https://docs.google.com/spreadsheets/d/187Gljr...  \n",
       "11                                              Unknown  \n",
       "33                                              Unknown  \n",
       "39                                              Unknown  \n",
       "...                                                 ...  \n",
       "1739                                            Unknown  \n",
       "1764                                            Unknown  \n",
       "1767                                            Unknown  \n",
       "1774                                            Unknown  \n",
       "1815                                            Unknown  \n",
       "\n",
       "[231 rows x 12 columns]"
      ]
     },
     "execution_count": 18,
     "metadata": {},
     "output_type": "execute_result"
    }
   ],
   "source": [
    "df[(df['Industry'] == 'Finance')]"
   ]
  },
  {
   "cell_type": "code",
   "execution_count": 19,
   "metadata": {},
   "outputs": [
    {
     "data": {
      "text/plain": [
       "array(['IPO', 'Series A', 'Series F', 'Series D', 'Unknown', 'Series B',\n",
       "       'Series C', 'Series I', 'Series E', 'Acquired', 'Series H',\n",
       "       'Private Equity', 'Series J', 'Seed', 'Series G'], dtype=object)"
      ]
     },
     "execution_count": 19,
     "metadata": {},
     "output_type": "execute_result"
    }
   ],
   "source": [
    "df['Stage'].unique()"
   ]
  },
  {
   "cell_type": "code",
   "execution_count": 20,
   "metadata": {},
   "outputs": [
    {
     "data": {
      "text/html": [
       "<div>\n",
       "<style scoped>\n",
       "    .dataframe tbody tr th:only-of-type {\n",
       "        vertical-align: middle;\n",
       "    }\n",
       "\n",
       "    .dataframe tbody tr th {\n",
       "        vertical-align: top;\n",
       "    }\n",
       "\n",
       "    .dataframe thead th {\n",
       "        text-align: right;\n",
       "    }\n",
       "</style>\n",
       "<table border=\"1\" class=\"dataframe\">\n",
       "  <thead>\n",
       "    <tr style=\"text-align: right;\">\n",
       "      <th></th>\n",
       "      <th>Company</th>\n",
       "      <th>Location</th>\n",
       "      <th>Industry</th>\n",
       "      <th>Laid_Off_Count</th>\n",
       "      <th>Percentage</th>\n",
       "      <th>Date</th>\n",
       "      <th>Source</th>\n",
       "      <th>Funds_Raised</th>\n",
       "      <th>Stage</th>\n",
       "      <th>Date_Added</th>\n",
       "      <th>Country</th>\n",
       "      <th>List_of_Employees_Laid_Off</th>\n",
       "    </tr>\n",
       "  </thead>\n",
       "  <tbody>\n",
       "    <tr>\n",
       "      <th>9</th>\n",
       "      <td>Autograph</td>\n",
       "      <td>Los Angeles</td>\n",
       "      <td>Crypto</td>\n",
       "      <td>NaN</td>\n",
       "      <td>NaN</td>\n",
       "      <td>2022-12-16</td>\n",
       "      <td>https://www.businessinsider.com/tom-brady-nft-...</td>\n",
       "      <td>205.0</td>\n",
       "      <td>Series B</td>\n",
       "      <td>2022-12-19 22:13:27</td>\n",
       "      <td>United States</td>\n",
       "      <td>Unknown</td>\n",
       "    </tr>\n",
       "    <tr>\n",
       "      <th>27</th>\n",
       "      <td>TaxBit</td>\n",
       "      <td>Salt Lake City</td>\n",
       "      <td>Crypto</td>\n",
       "      <td>NaN</td>\n",
       "      <td>NaN</td>\n",
       "      <td>2022-12-13</td>\n",
       "      <td>https://www.axios.com/local/salt-lake-city/202...</td>\n",
       "      <td>235.0</td>\n",
       "      <td>Series B</td>\n",
       "      <td>2022-12-18 04:07:43</td>\n",
       "      <td>United States</td>\n",
       "      <td>Unknown</td>\n",
       "    </tr>\n",
       "    <tr>\n",
       "      <th>43</th>\n",
       "      <td>Digital Surge</td>\n",
       "      <td>Brisbane</td>\n",
       "      <td>Crypto</td>\n",
       "      <td>NaN</td>\n",
       "      <td>1.00</td>\n",
       "      <td>2022-12-09</td>\n",
       "      <td>https://www.9news.com.au/technology/australian...</td>\n",
       "      <td>NaN</td>\n",
       "      <td>Unknown</td>\n",
       "      <td>2022-12-11 06:09:24</td>\n",
       "      <td>Australia</td>\n",
       "      <td>Unknown</td>\n",
       "    </tr>\n",
       "    <tr>\n",
       "      <th>45</th>\n",
       "      <td>ZenLedger</td>\n",
       "      <td>Seattle</td>\n",
       "      <td>Crypto</td>\n",
       "      <td>NaN</td>\n",
       "      <td>0.10</td>\n",
       "      <td>2022-12-09</td>\n",
       "      <td>https://blockworks.co/news/another-crypto-tax-...</td>\n",
       "      <td>25.0</td>\n",
       "      <td>Series B</td>\n",
       "      <td>2022-12-11 05:56:55</td>\n",
       "      <td>United States</td>\n",
       "      <td>Unknown</td>\n",
       "    </tr>\n",
       "    <tr>\n",
       "      <th>56</th>\n",
       "      <td>Bakkt</td>\n",
       "      <td>Atlanta</td>\n",
       "      <td>Crypto</td>\n",
       "      <td>NaN</td>\n",
       "      <td>0.15</td>\n",
       "      <td>2022-12-08</td>\n",
       "      <td>https://bakkt.com/newsroom/a-note-from-gavin-m...</td>\n",
       "      <td>932.0</td>\n",
       "      <td>IPO</td>\n",
       "      <td>2022-12-11 03:37:41</td>\n",
       "      <td>United States</td>\n",
       "      <td>Unknown</td>\n",
       "    </tr>\n",
       "    <tr>\n",
       "      <th>...</th>\n",
       "      <td>...</td>\n",
       "      <td>...</td>\n",
       "      <td>...</td>\n",
       "      <td>...</td>\n",
       "      <td>...</td>\n",
       "      <td>...</td>\n",
       "      <td>...</td>\n",
       "      <td>...</td>\n",
       "      <td>...</td>\n",
       "      <td>...</td>\n",
       "      <td>...</td>\n",
       "      <td>...</td>\n",
       "    </tr>\n",
       "    <tr>\n",
       "      <th>1533</th>\n",
       "      <td>BitGo</td>\n",
       "      <td>SF Bay Area</td>\n",
       "      <td>Crypto</td>\n",
       "      <td>NaN</td>\n",
       "      <td>0.12</td>\n",
       "      <td>2020-04-17</td>\n",
       "      <td>https://www.theblockcrypto.com/post/62276/cryp...</td>\n",
       "      <td>69.0</td>\n",
       "      <td>Series B</td>\n",
       "      <td>2020-04-30 15:40:19</td>\n",
       "      <td>United States</td>\n",
       "      <td>Unknown</td>\n",
       "    </tr>\n",
       "    <tr>\n",
       "      <th>1544</th>\n",
       "      <td>Purse</td>\n",
       "      <td>SF Bay Area</td>\n",
       "      <td>Crypto</td>\n",
       "      <td>NaN</td>\n",
       "      <td>1.00</td>\n",
       "      <td>2020-04-16</td>\n",
       "      <td>https://www.coindesk.com/bitcoin-startup-purse...</td>\n",
       "      <td>1.0</td>\n",
       "      <td>Seed</td>\n",
       "      <td>2020-04-16 23:35:05</td>\n",
       "      <td>United States</td>\n",
       "      <td>Unknown</td>\n",
       "    </tr>\n",
       "    <tr>\n",
       "      <th>1593</th>\n",
       "      <td>CipherTrace</td>\n",
       "      <td>SF Bay Area</td>\n",
       "      <td>Crypto</td>\n",
       "      <td>NaN</td>\n",
       "      <td>NaN</td>\n",
       "      <td>2020-04-09</td>\n",
       "      <td>https://www.theblockcrypto.com/daily/61411/blo...</td>\n",
       "      <td>18.0</td>\n",
       "      <td>Unknown</td>\n",
       "      <td>2020-04-30 16:17:28</td>\n",
       "      <td>United States</td>\n",
       "      <td>Unknown</td>\n",
       "    </tr>\n",
       "    <tr>\n",
       "      <th>1594</th>\n",
       "      <td>Elliptic</td>\n",
       "      <td>London</td>\n",
       "      <td>Crypto</td>\n",
       "      <td>NaN</td>\n",
       "      <td>0.30</td>\n",
       "      <td>2020-04-09</td>\n",
       "      <td>https://www.theblockcrypto.com/daily/61411/blo...</td>\n",
       "      <td>40.0</td>\n",
       "      <td>Series B</td>\n",
       "      <td>2020-04-30 16:16:50</td>\n",
       "      <td>United Kingdom</td>\n",
       "      <td>Unknown</td>\n",
       "    </tr>\n",
       "    <tr>\n",
       "      <th>1641</th>\n",
       "      <td>Bitfarms</td>\n",
       "      <td>Quebec</td>\n",
       "      <td>Crypto</td>\n",
       "      <td>NaN</td>\n",
       "      <td>NaN</td>\n",
       "      <td>2020-04-06</td>\n",
       "      <td>https://coingeek.com/job-losses-loom-at-bitfar...</td>\n",
       "      <td>25.0</td>\n",
       "      <td>IPO</td>\n",
       "      <td>2020-04-08 23:53:05</td>\n",
       "      <td>Canada</td>\n",
       "      <td>Unknown</td>\n",
       "    </tr>\n",
       "  </tbody>\n",
       "</table>\n",
       "<p>71 rows × 12 columns</p>\n",
       "</div>"
      ],
      "text/plain": [
       "            Company        Location Industry  Laid_Off_Count  Percentage  \\\n",
       "9         Autograph     Los Angeles   Crypto             NaN         NaN   \n",
       "27           TaxBit  Salt Lake City   Crypto             NaN         NaN   \n",
       "43    Digital Surge        Brisbane   Crypto             NaN        1.00   \n",
       "45        ZenLedger         Seattle   Crypto             NaN        0.10   \n",
       "56            Bakkt         Atlanta   Crypto             NaN        0.15   \n",
       "...             ...             ...      ...             ...         ...   \n",
       "1533          BitGo     SF Bay Area   Crypto             NaN        0.12   \n",
       "1544          Purse     SF Bay Area   Crypto             NaN        1.00   \n",
       "1593    CipherTrace     SF Bay Area   Crypto             NaN         NaN   \n",
       "1594       Elliptic          London   Crypto             NaN        0.30   \n",
       "1641       Bitfarms          Quebec   Crypto             NaN         NaN   \n",
       "\n",
       "           Date                                             Source  \\\n",
       "9    2022-12-16  https://www.businessinsider.com/tom-brady-nft-...   \n",
       "27   2022-12-13  https://www.axios.com/local/salt-lake-city/202...   \n",
       "43   2022-12-09  https://www.9news.com.au/technology/australian...   \n",
       "45   2022-12-09  https://blockworks.co/news/another-crypto-tax-...   \n",
       "56   2022-12-08  https://bakkt.com/newsroom/a-note-from-gavin-m...   \n",
       "...         ...                                                ...   \n",
       "1533 2020-04-17  https://www.theblockcrypto.com/post/62276/cryp...   \n",
       "1544 2020-04-16  https://www.coindesk.com/bitcoin-startup-purse...   \n",
       "1593 2020-04-09  https://www.theblockcrypto.com/daily/61411/blo...   \n",
       "1594 2020-04-09  https://www.theblockcrypto.com/daily/61411/blo...   \n",
       "1641 2020-04-06  https://coingeek.com/job-losses-loom-at-bitfar...   \n",
       "\n",
       "      Funds_Raised     Stage          Date_Added         Country  \\\n",
       "9            205.0  Series B 2022-12-19 22:13:27   United States   \n",
       "27           235.0  Series B 2022-12-18 04:07:43   United States   \n",
       "43             NaN   Unknown 2022-12-11 06:09:24       Australia   \n",
       "45            25.0  Series B 2022-12-11 05:56:55   United States   \n",
       "56           932.0       IPO 2022-12-11 03:37:41   United States   \n",
       "...            ...       ...                 ...             ...   \n",
       "1533          69.0  Series B 2020-04-30 15:40:19   United States   \n",
       "1544           1.0      Seed 2020-04-16 23:35:05   United States   \n",
       "1593          18.0   Unknown 2020-04-30 16:17:28   United States   \n",
       "1594          40.0  Series B 2020-04-30 16:16:50  United Kingdom   \n",
       "1641          25.0       IPO 2020-04-08 23:53:05          Canada   \n",
       "\n",
       "     List_of_Employees_Laid_Off  \n",
       "9                       Unknown  \n",
       "27                      Unknown  \n",
       "43                      Unknown  \n",
       "45                      Unknown  \n",
       "56                      Unknown  \n",
       "...                         ...  \n",
       "1533                    Unknown  \n",
       "1544                    Unknown  \n",
       "1593                    Unknown  \n",
       "1594                    Unknown  \n",
       "1641                    Unknown  \n",
       "\n",
       "[71 rows x 12 columns]"
      ]
     },
     "execution_count": 20,
     "metadata": {},
     "output_type": "execute_result"
    }
   ],
   "source": [
    "df[(df['Industry'] == 'Crypto')]"
   ]
  },
  {
   "cell_type": "code",
   "execution_count": 21,
   "metadata": {},
   "outputs": [
    {
     "data": {
      "text/html": [
       "<div>\n",
       "<style scoped>\n",
       "    .dataframe tbody tr th:only-of-type {\n",
       "        vertical-align: middle;\n",
       "    }\n",
       "\n",
       "    .dataframe tbody tr th {\n",
       "        vertical-align: top;\n",
       "    }\n",
       "\n",
       "    .dataframe thead th {\n",
       "        text-align: right;\n",
       "    }\n",
       "</style>\n",
       "<table border=\"1\" class=\"dataframe\">\n",
       "  <thead>\n",
       "    <tr style=\"text-align: right;\">\n",
       "      <th></th>\n",
       "      <th>Company</th>\n",
       "      <th>Location</th>\n",
       "      <th>Industry</th>\n",
       "      <th>Laid_Off_Count</th>\n",
       "      <th>Percentage</th>\n",
       "      <th>Date</th>\n",
       "      <th>Source</th>\n",
       "      <th>Funds_Raised</th>\n",
       "      <th>Stage</th>\n",
       "      <th>Date_Added</th>\n",
       "      <th>Country</th>\n",
       "      <th>List_of_Employees_Laid_Off</th>\n",
       "    </tr>\n",
       "  </thead>\n",
       "  <tbody>\n",
       "    <tr>\n",
       "      <th>2</th>\n",
       "      <td>Briza</td>\n",
       "      <td>Toronto</td>\n",
       "      <td>Finance</td>\n",
       "      <td>26.0</td>\n",
       "      <td>0.40</td>\n",
       "      <td>2022-12-20</td>\n",
       "      <td>https://betakit.com/ceo-of-briza-steps-down-as...</td>\n",
       "      <td>10.0</td>\n",
       "      <td>Series A</td>\n",
       "      <td>2022-12-20 18:43:01</td>\n",
       "      <td>Canada</td>\n",
       "      <td>https://docs.google.com/spreadsheets/d/18ZMnL9...</td>\n",
       "    </tr>\n",
       "    <tr>\n",
       "      <th>6</th>\n",
       "      <td>Tomorrow</td>\n",
       "      <td>Hamburg</td>\n",
       "      <td>Finance</td>\n",
       "      <td>30.0</td>\n",
       "      <td>0.25</td>\n",
       "      <td>2022-12-16</td>\n",
       "      <td>https://www.businessinsider.de/gruenderszene/f...</td>\n",
       "      <td>29.0</td>\n",
       "      <td>Unknown</td>\n",
       "      <td>2022-12-18 04:15:07</td>\n",
       "      <td>Germany</td>\n",
       "      <td>https://docs.google.com/spreadsheets/d/187Gljr...</td>\n",
       "    </tr>\n",
       "    <tr>\n",
       "      <th>7</th>\n",
       "      <td>Revelate</td>\n",
       "      <td>Montreal</td>\n",
       "      <td>Data</td>\n",
       "      <td>24.0</td>\n",
       "      <td>0.30</td>\n",
       "      <td>2022-12-16</td>\n",
       "      <td>https://betakit.com/layoffs-persist-at-canadia...</td>\n",
       "      <td>26.0</td>\n",
       "      <td>Series A</td>\n",
       "      <td>2022-12-19 17:17:13</td>\n",
       "      <td>Canada</td>\n",
       "      <td>Unknown</td>\n",
       "    </tr>\n",
       "    <tr>\n",
       "      <th>9</th>\n",
       "      <td>Autograph</td>\n",
       "      <td>Los Angeles</td>\n",
       "      <td>Crypto</td>\n",
       "      <td>NaN</td>\n",
       "      <td>NaN</td>\n",
       "      <td>2022-12-16</td>\n",
       "      <td>https://www.businessinsider.com/tom-brady-nft-...</td>\n",
       "      <td>205.0</td>\n",
       "      <td>Series B</td>\n",
       "      <td>2022-12-19 22:13:27</td>\n",
       "      <td>United States</td>\n",
       "      <td>Unknown</td>\n",
       "    </tr>\n",
       "    <tr>\n",
       "      <th>11</th>\n",
       "      <td>Modern Treasury</td>\n",
       "      <td>SF Bay Area</td>\n",
       "      <td>Finance</td>\n",
       "      <td>NaN</td>\n",
       "      <td>0.18</td>\n",
       "      <td>2022-12-16</td>\n",
       "      <td>Internal memo</td>\n",
       "      <td>183.0</td>\n",
       "      <td>Series C</td>\n",
       "      <td>2022-12-21 03:28:48</td>\n",
       "      <td>United States</td>\n",
       "      <td>Unknown</td>\n",
       "    </tr>\n",
       "    <tr>\n",
       "      <th>...</th>\n",
       "      <td>...</td>\n",
       "      <td>...</td>\n",
       "      <td>...</td>\n",
       "      <td>...</td>\n",
       "      <td>...</td>\n",
       "      <td>...</td>\n",
       "      <td>...</td>\n",
       "      <td>...</td>\n",
       "      <td>...</td>\n",
       "      <td>...</td>\n",
       "      <td>...</td>\n",
       "      <td>...</td>\n",
       "    </tr>\n",
       "    <tr>\n",
       "      <th>1767</th>\n",
       "      <td>Bench</td>\n",
       "      <td>Vancouver</td>\n",
       "      <td>Finance</td>\n",
       "      <td>47.0</td>\n",
       "      <td>0.10</td>\n",
       "      <td>2020-03-27</td>\n",
       "      <td>https://betakit.com/bench-re-hires-workers-as-...</td>\n",
       "      <td>49.0</td>\n",
       "      <td>Series B</td>\n",
       "      <td>2020-06-23 01:22:09</td>\n",
       "      <td>Canada</td>\n",
       "      <td>Unknown</td>\n",
       "    </tr>\n",
       "    <tr>\n",
       "      <th>1774</th>\n",
       "      <td>Bcredi</td>\n",
       "      <td>Curitiba</td>\n",
       "      <td>Finance</td>\n",
       "      <td>NaN</td>\n",
       "      <td>NaN</td>\n",
       "      <td>2020-03-27</td>\n",
       "      <td>https://layoffs.fyi/list/bcredi/</td>\n",
       "      <td>NaN</td>\n",
       "      <td>Series A</td>\n",
       "      <td>2020-04-25 15:28:59</td>\n",
       "      <td>Brazil</td>\n",
       "      <td>Unknown</td>\n",
       "    </tr>\n",
       "    <tr>\n",
       "      <th>1795</th>\n",
       "      <td>Element Analytics</td>\n",
       "      <td>SF Bay Area</td>\n",
       "      <td>Data</td>\n",
       "      <td>10.0</td>\n",
       "      <td>NaN</td>\n",
       "      <td>2020-03-25</td>\n",
       "      <td>Company executive</td>\n",
       "      <td>22.0</td>\n",
       "      <td>Series A</td>\n",
       "      <td>2020-04-18 18:20:15</td>\n",
       "      <td>United States</td>\n",
       "      <td>Unknown</td>\n",
       "    </tr>\n",
       "    <tr>\n",
       "      <th>1813</th>\n",
       "      <td>GrayMeta</td>\n",
       "      <td>Los Angeles</td>\n",
       "      <td>Data</td>\n",
       "      <td>20.0</td>\n",
       "      <td>0.40</td>\n",
       "      <td>2020-03-23</td>\n",
       "      <td>LinkedIn</td>\n",
       "      <td>7.0</td>\n",
       "      <td>Unknown</td>\n",
       "      <td>2020-04-01 05:31:34</td>\n",
       "      <td>United States</td>\n",
       "      <td>Unknown</td>\n",
       "    </tr>\n",
       "    <tr>\n",
       "      <th>1815</th>\n",
       "      <td>Ladder Life</td>\n",
       "      <td>SF Bay Area</td>\n",
       "      <td>Finance</td>\n",
       "      <td>13.0</td>\n",
       "      <td>0.25</td>\n",
       "      <td>2020-03-23</td>\n",
       "      <td>LinkedIn</td>\n",
       "      <td>94.0</td>\n",
       "      <td>Series C</td>\n",
       "      <td>2020-04-07 13:49:37</td>\n",
       "      <td>United States</td>\n",
       "      <td>Unknown</td>\n",
       "    </tr>\n",
       "  </tbody>\n",
       "</table>\n",
       "<p>363 rows × 12 columns</p>\n",
       "</div>"
      ],
      "text/plain": [
       "                Company     Location Industry  Laid_Off_Count  Percentage  \\\n",
       "2                 Briza      Toronto  Finance            26.0        0.40   \n",
       "6              Tomorrow      Hamburg  Finance            30.0        0.25   \n",
       "7              Revelate     Montreal     Data            24.0        0.30   \n",
       "9             Autograph  Los Angeles   Crypto             NaN         NaN   \n",
       "11      Modern Treasury  SF Bay Area  Finance             NaN        0.18   \n",
       "...                 ...          ...      ...             ...         ...   \n",
       "1767              Bench    Vancouver  Finance            47.0        0.10   \n",
       "1774             Bcredi     Curitiba  Finance             NaN         NaN   \n",
       "1795  Element Analytics  SF Bay Area     Data            10.0         NaN   \n",
       "1813           GrayMeta  Los Angeles     Data            20.0        0.40   \n",
       "1815        Ladder Life  SF Bay Area  Finance            13.0        0.25   \n",
       "\n",
       "           Date                                             Source  \\\n",
       "2    2022-12-20  https://betakit.com/ceo-of-briza-steps-down-as...   \n",
       "6    2022-12-16  https://www.businessinsider.de/gruenderszene/f...   \n",
       "7    2022-12-16  https://betakit.com/layoffs-persist-at-canadia...   \n",
       "9    2022-12-16  https://www.businessinsider.com/tom-brady-nft-...   \n",
       "11   2022-12-16                                      Internal memo   \n",
       "...         ...                                                ...   \n",
       "1767 2020-03-27  https://betakit.com/bench-re-hires-workers-as-...   \n",
       "1774 2020-03-27                   https://layoffs.fyi/list/bcredi/   \n",
       "1795 2020-03-25                                  Company executive   \n",
       "1813 2020-03-23                                           LinkedIn   \n",
       "1815 2020-03-23                                           LinkedIn   \n",
       "\n",
       "      Funds_Raised     Stage          Date_Added        Country  \\\n",
       "2             10.0  Series A 2022-12-20 18:43:01         Canada   \n",
       "6             29.0   Unknown 2022-12-18 04:15:07        Germany   \n",
       "7             26.0  Series A 2022-12-19 17:17:13         Canada   \n",
       "9            205.0  Series B 2022-12-19 22:13:27  United States   \n",
       "11           183.0  Series C 2022-12-21 03:28:48  United States   \n",
       "...            ...       ...                 ...            ...   \n",
       "1767          49.0  Series B 2020-06-23 01:22:09         Canada   \n",
       "1774           NaN  Series A 2020-04-25 15:28:59         Brazil   \n",
       "1795          22.0  Series A 2020-04-18 18:20:15  United States   \n",
       "1813           7.0   Unknown 2020-04-01 05:31:34  United States   \n",
       "1815          94.0  Series C 2020-04-07 13:49:37  United States   \n",
       "\n",
       "                             List_of_Employees_Laid_Off  \n",
       "2     https://docs.google.com/spreadsheets/d/18ZMnL9...  \n",
       "6     https://docs.google.com/spreadsheets/d/187Gljr...  \n",
       "7                                               Unknown  \n",
       "9                                               Unknown  \n",
       "11                                              Unknown  \n",
       "...                                                 ...  \n",
       "1767                                            Unknown  \n",
       "1774                                            Unknown  \n",
       "1795                                            Unknown  \n",
       "1813                                            Unknown  \n",
       "1815                                            Unknown  \n",
       "\n",
       "[363 rows x 12 columns]"
      ]
     },
     "execution_count": 21,
     "metadata": {},
     "output_type": "execute_result"
    }
   ],
   "source": [
    "df[(df['Industry'] == 'Data') | (df['Industry'] == 'Crypto') | (df['Industry'] == 'Finance')]"
   ]
  },
  {
   "cell_type": "code",
   "execution_count": null,
   "metadata": {},
   "outputs": [],
   "source": []
  }
 ],
 "metadata": {
  "kernelspec": {
   "display_name": "base",
   "language": "python",
   "name": "python3"
  },
  "language_info": {
   "codemirror_mode": {
    "name": "ipython",
    "version": 3
   },
   "file_extension": ".py",
   "mimetype": "text/x-python",
   "name": "python",
   "nbconvert_exporter": "python",
   "pygments_lexer": "ipython3",
   "version": "3.8.5"
  },
  "orig_nbformat": 4,
  "vscode": {
   "interpreter": {
    "hash": "24539a8a8b0b971bc5e162349b7f4ad82b8d124deb4436ae1db9f8678d09ca5a"
   }
  }
 },
 "nbformat": 4,
 "nbformat_minor": 2
}
